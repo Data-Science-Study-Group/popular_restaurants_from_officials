{
 "cells": [
  {
   "cell_type": "code",
   "execution_count": 1,
   "metadata": {
    "colab": {
     "autoexec": {
      "startup": false,
      "wait_interval": 0
     }
    },
    "colab_type": "code",
    "id": "-xw0RaF1mNXV"
   },
   "outputs": [],
   "source": [
    "#-*-coding: utf-8\n",
    "json_hierarchy = [\n",
    "        {\n",
    "            \"div\": \"감사위원회\",\n",
    "            \"child\": \"조사담당관\"\n",
    "#             /안전담당관/감사담당관\"\n",
    "        },\n",
    "        {\n",
    "            \"div\": \"경제진흥본부\",\n",
    "            \"child\": {\n",
    "                \"div\": \"창조경제기획관\",\n",
    "                \"child\": \"도시농업과\"\n",
    "#                 /경제정책과/민생경제과\n",
    "#                 /화융합경제과/디지털창업과/투자유치과/소상공인지원과\"\n",
    "            }\n",
    "        },\n",
    "#         {\n",
    "#             \"div\": \"관광체육국\",\n",
    "#             \"child\": \"관광정책과/체육진흥과/체육정책과/관광사업과\"\n",
    "#         },\n",
    "        {\n",
    "            \"div\": \"기술심사담당관\"\n",
    "        },\n",
    "#         {\n",
    "#             \"div\": \"기획조정실\",\n",
    "#             \"child\": [\n",
    "#                 {\n",
    "#                     \"div\": \"국제교류담당관\"\n",
    "#                 },\n",
    "#                 {\n",
    "#                     \"div\": \"정책기획관\",\n",
    "#                     \"child\": \"기획담당관/법률지원담당관/대외협력담당관/조직담당관/법무담당관/평가담당관\"\n",
    "#                 },\n",
    "#                 {\n",
    "#                     \"div\": \"해외도시협력담당관\"\n",
    "#                 },\n",
    "#                 {\n",
    "#                     \"div\": \"재정기획관\",\n",
    "#                     \"child\": \"예산담당관/시민참여예산과/공기업담당관/재정관리담당관/시민참여예산담당관\"\n",
    "#                 }\n",
    "#             ]\n",
    "#         }\n",
    "    ]"
   ]
  },
  {
   "cell_type": "code",
   "execution_count": 2,
   "metadata": {
    "colab": {
     "autoexec": {
      "startup": false,
      "wait_interval": 0
     },
     "base_uri": "https://localhost:8080/",
     "height": 112
    },
    "colab_type": "code",
    "executionInfo": {
     "elapsed": 633,
     "status": "ok",
     "timestamp": 1532793466112,
     "user": {
      "displayName": "jeeyun lee",
      "photoUrl": "https://lh3.googleusercontent.com/a/default-user=s128",
      "userId": "106132043570557958485"
     },
     "user_tz": -540
    },
    "id": "5BH8NLvY45Ll",
    "outputId": "630422a5-7695-4285-9328-0adf3edc3dbc"
   },
   "outputs": [
    {
     "name": "stdout",
     "output_type": "stream",
     "text": [
      "keyerr\n"
     ]
    },
    {
     "data": {
      "text/plain": [
       "['%EA%B0%90%EC%82%AC%EC%9C%84%EC%9B%90%ED%9A%8C&dept%5B%5D=%EC%A1%B0%EC%82%AC%EB%8B%B4%EB%8B%B9%EA%B4%80',\n",
       " '%EA%B0%90%EC%82%AC%EC%9C%84%EC%9B%90%ED%9A%8C&dept%5B%5D=%EC%A1%B0%EC%82%AC%EB%8B%B4%EB%8B%B9%EA%B4%80',\n",
       " '%EA%B2%BD%EC%A0%9C%EC%A7%84%ED%9D%A5%EB%B3%B8%EB%B6%80&dept%5B%5D=%EC%B0%BD%EC%A1%B0%EA%B2%BD%EC%A0%9C%EA%B8%B0%ED%9A%8D%EA%B4%80&dept%5B%5D=%EB%8F%84%EC%8B%9C%EB%86%8D%EC%97%85%EA%B3%BC']"
      ]
     },
     "execution_count": 2,
     "metadata": {},
     "output_type": "execute_result"
    }
   ],
   "source": [
    "from urllib import parse\n",
    "\n",
    "# URL 추출\n",
    "urls = [];\n",
    "tail = '&dept%5B%5D='\n",
    "def extract_value(data, origin_url):\n",
    "  if (len(data)) > 2:\n",
    "    for single_div in data :\n",
    "      url = str(origin_url)\n",
    "      if isinstance(single_div, dict):\n",
    "        try:\n",
    "          if isinstance(single_div['child'], str):\n",
    "            #요기 최종\n",
    "            ## pares 안해주면 한글 url이 깨진다요\n",
    "            url += parse.quote(single_div['div'])\n",
    "            url += tail\n",
    "            for div in single_div['child'].split('/'):\n",
    "              url_final = url + parse.quote(div)\n",
    "              urls.append(url_final)\n",
    "#               print(url_final)\n",
    "              urls.append(url_final)\n",
    "          else:\n",
    "            url += parse.quote(single_div['div'])\n",
    "            url += tail\n",
    "            extract_value(single_div['child'], url)\n",
    "        except KeyError:\n",
    "#           url += parse.quote(single_div.get('div'))\n",
    "#           urls.append(url)\n",
    "          print('keyerr')\n",
    "      else:\n",
    "        print(\"no dict : \")\n",
    "  else:\n",
    "    url = str(origin_url)\n",
    "    child_list = data.get('child')\n",
    "    for child in child_list.split('/'):\n",
    "      url_final = url + parse.quote(data.get('div')) + tail + parse.quote(child)\n",
    "      urls.append(url_final)\n",
    "#       print(url_final)\n",
    "      \n",
    "extract_value(json_hierarchy, \"\")\n",
    "urls[:5]"
   ]
  },
  {
   "cell_type": "markdown",
   "metadata": {
    "colab_type": "text",
    "id": "HQjc8aK77k53"
   },
   "source": []
  },
  {
   "cell_type": "code",
   "execution_count": 3,
   "metadata": {
    "colab": {
     "autoexec": {
      "startup": false,
      "wait_interval": 0
     },
     "base_uri": "https://localhost:8080/",
     "height": 92
    },
    "colab_type": "code",
    "executionInfo": {
     "elapsed": 5042,
     "status": "ok",
     "timestamp": 1532793476469,
     "user": {
      "displayName": "jeeyun lee",
      "photoUrl": "https://lh3.googleusercontent.com/a/default-user=s128",
      "userId": "106132043570557958485"
     },
     "user_tz": -540
    },
    "id": "74WUztBb8lEk",
    "outputId": "2332cfc2-6895-49ab-e2db-42cb08164f73"
   },
   "outputs": [
    {
     "name": "stdout",
     "output_type": "stream",
     "text": [
      "Requirement already satisfied: html5lib in c:\\users\\jeeyun\\anaconda3\\lib\\site-packages (1.0.1)\n",
      "Requirement already satisfied: six>=1.9 in c:\\users\\jeeyun\\anaconda3\\lib\\site-packages (from html5lib) (1.11.0)\n",
      "Requirement already satisfied: webencodings in c:\\users\\jeeyun\\anaconda3\\lib\\site-packages (from html5lib) (0.5.1)\n"
     ]
    },
    {
     "name": "stderr",
     "output_type": "stream",
     "text": [
      "distributed 1.21.8 requires msgpack, which is not installed.\n",
      "You are using pip version 10.0.1, however version 18.0 is available.\n",
      "You should consider upgrading via the 'python -m pip install --upgrade pip' command.\n"
     ]
    },
    {
     "name": "stdout",
     "output_type": "stream",
     "text": [
      "Requirement already satisfied: lxml in c:\\users\\jeeyun\\anaconda3\\lib\\site-packages (4.2.1)\n"
     ]
    },
    {
     "name": "stderr",
     "output_type": "stream",
     "text": [
      "distributed 1.21.8 requires msgpack, which is not installed.\n",
      "You are using pip version 10.0.1, however version 18.0 is available.\n",
      "You should consider upgrading via the 'python -m pip install --upgrade pip' command.\n"
     ]
    }
   ],
   "source": [
    "# 필요한 라이브러리 가져오기\n",
    "from urllib import request\n",
    "!pip install html5lib\n",
    "import html5lib\n",
    "!pip install lxml\n",
    "import pandas as pd\n",
    "import numpy as np"
   ]
  },
  {
   "cell_type": "code",
   "execution_count": 25,
   "metadata": {
    "colab": {
     "autoexec": {
      "startup": false,
      "wait_interval": 0
     },
     "base_uri": "https://localhost:8080/",
     "height": 56
    },
    "colab_type": "code",
    "executionInfo": {
     "elapsed": 24261,
     "status": "ok",
     "timestamp": 1532793501980,
     "user": {
      "displayName": "jeeyun lee",
      "photoUrl": "https://lh3.googleusercontent.com/a/default-user=s128",
      "userId": "106132043570557958485"
     },
     "user_tz": -540
    },
    "id": "CndgYllbHfMV",
    "outputId": "4b506b52-304f-4b71-dc0c-56276a5066c1"
   },
   "outputs": [
    {
     "name": "stdout",
     "output_type": "stream",
     "text": [
      "err https://opengov.seoul.go.kr/expense?dept%5B%5D=%EC%84%9C%EC%9A%B8%EC%8B%9C%EB%B3%B8%EC%B2%AD&dept%5B%5D=%EA%B2%BD%EC%A0%9C%EC%A7%84%ED%9D%A5%EB%B3%B8%EB%B6%80&dept%5B%5D=%EC%B0%BD%EC%A1%B0%EA%B2%BD%EC%A0%9C%EA%B8%B0%ED%9A%8D%EA%B4%80&dept%5B%5D=%EB%8F%84%EC%8B%9C%EB%86%8D%EC%97%85%EA%B3%BC&year=2017&month=3\n"
     ]
    }
   ],
   "source": [
    "import re\n",
    "# 2017년 1년치 데이터 크롤링\n",
    "df = pd.DataFrame()\n",
    "base_url_head = \"https://opengov.seoul.go.kr/expense?dept%5B%5D=%EC%84%9C%EC%9A%B8%EC%8B%9C%EB%B3%B8%EC%B2%AD&dept%5B%5D=\"\n",
    "base_url_tail = \"&year=2017&month=\"\n",
    "column_div = \"1소속부서\"\n",
    "\n",
    "# url돌면서 url 만들기\n",
    "for div in urls:\n",
    "  div_url = (base_url_head + div + base_url_tail)\n",
    "  unquote_div = parse.unquote(div)\n",
    "  div_name = re.search('(.*)&', unquote_div).group(1)\n",
    "  for month in range(1,4): \n",
    "    url_month = div_url + str(month)\n",
    "    try:\n",
    "      df_month = pd.read_html(url_month)[1]\n",
    "      df_month[column_div] = div_name\n",
    "      df = df.append(df_month)\n",
    "    except IndexError:\n",
    "      print('err', url_month)\n",
    "\n",
    "\n",
    "#   mayor_12months = mayor_12months.append(df)\n",
    "\n",
    "#   ## 1 category 칼럼 넣기\n",
    "#   ## 년/ 월 / 일 / 시간 분리하기\n",
    "#   ## 레스토랑명 / 지역 분리하기"
   ]
  },
  {
   "cell_type": "markdown",
   "metadata": {
    "colab_type": "text",
    "id": "Fqc6yFMImN2I"
   },
   "source": [
    "데이터가 없는 항목도 많다. 크롤링 하는데 엄청 오래걸리네... 엑셀에 넣어둬야겠당"
   ]
  },
  {
   "cell_type": "code",
   "execution_count": 14,
   "metadata": {
    "colab": {
     "autoexec": {
      "startup": false,
      "wait_interval": 0
     },
     "base_uri": "https://localhost:8080/",
     "height": 294
    },
    "colab_type": "code",
    "executionInfo": {
     "elapsed": 628,
     "status": "ok",
     "timestamp": 1532793506959,
     "user": {
      "displayName": "jeeyun lee",
      "photoUrl": "https://lh3.googleusercontent.com/a/default-user=s128",
      "userId": "106132043570557958485"
     },
     "user_tz": -540
    },
    "id": "sY1eFruUTjYB",
    "outputId": "4a33bda4-f7fe-40c6-e3d0-b45e0202ff63"
   },
   "outputs": [
    {
     "data": {
      "text/html": [
       "<div>\n",
       "<style scoped>\n",
       "    .dataframe tbody tr th:only-of-type {\n",
       "        vertical-align: middle;\n",
       "    }\n",
       "\n",
       "    .dataframe tbody tr th {\n",
       "        vertical-align: top;\n",
       "    }\n",
       "\n",
       "    .dataframe thead th {\n",
       "        text-align: right;\n",
       "    }\n",
       "</style>\n",
       "<table border=\"1\" class=\"dataframe\">\n",
       "  <thead>\n",
       "    <tr style=\"text-align: right;\">\n",
       "      <th></th>\n",
       "      <th>연번</th>\n",
       "      <th>집행금액</th>\n",
       "    </tr>\n",
       "  </thead>\n",
       "  <tbody>\n",
       "    <tr>\n",
       "      <th>count</th>\n",
       "      <td>150.000000</td>\n",
       "      <td>150.000000</td>\n",
       "    </tr>\n",
       "    <tr>\n",
       "      <th>mean</th>\n",
       "      <td>11.580000</td>\n",
       "      <td>137937.200000</td>\n",
       "    </tr>\n",
       "    <tr>\n",
       "      <th>std</th>\n",
       "      <td>7.267903</td>\n",
       "      <td>125367.285501</td>\n",
       "    </tr>\n",
       "    <tr>\n",
       "      <th>min</th>\n",
       "      <td>1.000000</td>\n",
       "      <td>8100.000000</td>\n",
       "    </tr>\n",
       "    <tr>\n",
       "      <th>25%</th>\n",
       "      <td>5.000000</td>\n",
       "      <td>47850.000000</td>\n",
       "    </tr>\n",
       "    <tr>\n",
       "      <th>50%</th>\n",
       "      <td>11.000000</td>\n",
       "      <td>96000.000000</td>\n",
       "    </tr>\n",
       "    <tr>\n",
       "      <th>75%</th>\n",
       "      <td>17.000000</td>\n",
       "      <td>184525.000000</td>\n",
       "    </tr>\n",
       "    <tr>\n",
       "      <th>max</th>\n",
       "      <td>28.000000</td>\n",
       "      <td>490000.000000</td>\n",
       "    </tr>\n",
       "  </tbody>\n",
       "</table>\n",
       "</div>"
      ],
      "text/plain": [
       "               연번           집행금액\n",
       "count  150.000000     150.000000\n",
       "mean    11.580000  137937.200000\n",
       "std      7.267903  125367.285501\n",
       "min      1.000000    8100.000000\n",
       "25%      5.000000   47850.000000\n",
       "50%     11.000000   96000.000000\n",
       "75%     17.000000  184525.000000\n",
       "max     28.000000  490000.000000"
      ]
     },
     "execution_count": 14,
     "metadata": {},
     "output_type": "execute_result"
    }
   ],
   "source": [
    "df.describe()"
   ]
  },
  {
   "cell_type": "code",
   "execution_count": 15,
   "metadata": {
    "colab": {
     "autoexec": {
      "startup": false,
      "wait_interval": 0
     },
     "base_uri": "https://localhost:8080/",
     "height": 260
    },
    "colab_type": "code",
    "executionInfo": {
     "elapsed": 1342,
     "status": "ok",
     "timestamp": 1532793512704,
     "user": {
      "displayName": "jeeyun lee",
      "photoUrl": "https://lh3.googleusercontent.com/a/default-user=s128",
      "userId": "106132043570557958485"
     },
     "user_tz": -540
    },
    "id": "Qaf9JukuTmsm",
    "outputId": "3d2c8aaf-afbc-4a05-9872-4cd80be4e624"
   },
   "outputs": [
    {
     "name": "stdout",
     "output_type": "stream",
     "text": [
      "<class 'pandas.core.frame.DataFrame'>\n",
      "Int64Index: 150 entries, 0 to 6\n",
      "Data columns (total 9 columns):\n",
      "연번       150 non-null int64\n",
      "부서명      150 non-null object\n",
      "집행일시     150 non-null object\n",
      "집행장소     150 non-null object\n",
      "집행목적     150 non-null object\n",
      "대상인원     150 non-null object\n",
      "결제방법     150 non-null object\n",
      "집행금액     150 non-null int64\n",
      "1소속부서    150 non-null object\n",
      "dtypes: int64(2), object(7)\n",
      "memory usage: 11.7+ KB\n"
     ]
    }
   ],
   "source": [
    "df.info()"
   ]
  },
  {
   "cell_type": "code",
   "execution_count": 16,
   "metadata": {
    "colab": {
     "autoexec": {
      "startup": false,
      "wait_interval": 0
     },
     "base_uri": "https://localhost:8080/",
     "height": 36
    },
    "colab_type": "code",
    "executionInfo": {
     "elapsed": 632,
     "status": "ok",
     "timestamp": 1532793527989,
     "user": {
      "displayName": "jeeyun lee",
      "photoUrl": "https://lh3.googleusercontent.com/a/default-user=s128",
      "userId": "106132043570557958485"
     },
     "user_tz": -540
    },
    "id": "7GoQxWEdTtZ-",
    "outputId": "339b8d89-68a2-418e-e42e-738a093ab7ad"
   },
   "outputs": [
    {
     "data": {
      "text/plain": [
       "(150, 9)"
      ]
     },
     "execution_count": 16,
     "metadata": {},
     "output_type": "execute_result"
    }
   ],
   "source": [
    "df.shape"
   ]
  },
  {
   "cell_type": "code",
   "execution_count": 23,
   "metadata": {
    "colab": {
     "autoexec": {
      "startup": false,
      "wait_interval": 0
     },
     "base_uri": "https://localhost:8080/",
     "height": 210
    },
    "colab_type": "code",
    "executionInfo": {
     "elapsed": 943,
     "status": "ok",
     "timestamp": 1532793564644,
     "user": {
      "displayName": "jeeyun lee",
      "photoUrl": "https://lh3.googleusercontent.com/a/default-user=s128",
      "userId": "106132043570557958485"
     },
     "user_tz": -540
    },
    "id": "cfm1B59sfvQg",
    "outputId": "d79854a8-0267-4e89-d136-9cd8c4c25296"
   },
   "outputs": [
    {
     "ename": "KeyError",
     "evalue": "'연번'",
     "output_type": "error",
     "traceback": [
      "\u001b[1;31m---------------------------------------------------------------------------\u001b[0m",
      "\u001b[1;31mKeyError\u001b[0m                                  Traceback (most recent call last)",
      "\u001b[1;32m~\\Anaconda3\\lib\\site-packages\\pandas\\core\\indexes\\base.py\u001b[0m in \u001b[0;36mget_loc\u001b[1;34m(self, key, method, tolerance)\u001b[0m\n\u001b[0;32m   3062\u001b[0m             \u001b[1;32mtry\u001b[0m\u001b[1;33m:\u001b[0m\u001b[1;33m\u001b[0m\u001b[0m\n\u001b[1;32m-> 3063\u001b[1;33m                 \u001b[1;32mreturn\u001b[0m \u001b[0mself\u001b[0m\u001b[1;33m.\u001b[0m\u001b[0m_engine\u001b[0m\u001b[1;33m.\u001b[0m\u001b[0mget_loc\u001b[0m\u001b[1;33m(\u001b[0m\u001b[0mkey\u001b[0m\u001b[1;33m)\u001b[0m\u001b[1;33m\u001b[0m\u001b[0m\n\u001b[0m\u001b[0;32m   3064\u001b[0m             \u001b[1;32mexcept\u001b[0m \u001b[0mKeyError\u001b[0m\u001b[1;33m:\u001b[0m\u001b[1;33m\u001b[0m\u001b[0m\n",
      "\u001b[1;32mpandas\\_libs\\index.pyx\u001b[0m in \u001b[0;36mpandas._libs.index.IndexEngine.get_loc\u001b[1;34m()\u001b[0m\n",
      "\u001b[1;32mpandas\\_libs\\index.pyx\u001b[0m in \u001b[0;36mpandas._libs.index.IndexEngine.get_loc\u001b[1;34m()\u001b[0m\n",
      "\u001b[1;32mpandas\\_libs\\hashtable_class_helper.pxi\u001b[0m in \u001b[0;36mpandas._libs.hashtable.PyObjectHashTable.get_item\u001b[1;34m()\u001b[0m\n",
      "\u001b[1;32mpandas\\_libs\\hashtable_class_helper.pxi\u001b[0m in \u001b[0;36mpandas._libs.hashtable.PyObjectHashTable.get_item\u001b[1;34m()\u001b[0m\n",
      "\u001b[1;31mKeyError\u001b[0m: '연번'",
      "\nDuring handling of the above exception, another exception occurred:\n",
      "\u001b[1;31mKeyError\u001b[0m                                  Traceback (most recent call last)",
      "\u001b[1;32m<ipython-input-23-ab83419bf50c>\u001b[0m in \u001b[0;36m<module>\u001b[1;34m()\u001b[0m\n\u001b[1;32m----> 1\u001b[1;33m \u001b[1;32mdel\u001b[0m \u001b[0mdf\u001b[0m\u001b[1;33m[\u001b[0m\u001b[1;34m'연번'\u001b[0m\u001b[1;33m]\u001b[0m\u001b[1;33m\u001b[0m\u001b[0m\n\u001b[0m\u001b[0;32m      2\u001b[0m \u001b[1;32mdel\u001b[0m \u001b[0mdf\u001b[0m\u001b[1;33m[\u001b[0m\u001b[1;34m'부서명'\u001b[0m\u001b[1;33m]\u001b[0m\u001b[1;33m\u001b[0m\u001b[0m\n\u001b[0;32m      3\u001b[0m \u001b[0mdf\u001b[0m\u001b[1;33m.\u001b[0m\u001b[0mhead\u001b[0m\u001b[1;33m(\u001b[0m\u001b[1;36m2\u001b[0m\u001b[1;33m)\u001b[0m\u001b[1;33m\u001b[0m\u001b[0m\n",
      "\u001b[1;32m~\\Anaconda3\\lib\\site-packages\\pandas\\core\\generic.py\u001b[0m in \u001b[0;36m__delitem__\u001b[1;34m(self, key)\u001b[0m\n\u001b[0;32m   2738\u001b[0m             \u001b[1;31m# there was no match, this call should raise the appropriate\u001b[0m\u001b[1;33m\u001b[0m\u001b[1;33m\u001b[0m\u001b[0m\n\u001b[0;32m   2739\u001b[0m             \u001b[1;31m# exception:\u001b[0m\u001b[1;33m\u001b[0m\u001b[1;33m\u001b[0m\u001b[0m\n\u001b[1;32m-> 2740\u001b[1;33m             \u001b[0mself\u001b[0m\u001b[1;33m.\u001b[0m\u001b[0m_data\u001b[0m\u001b[1;33m.\u001b[0m\u001b[0mdelete\u001b[0m\u001b[1;33m(\u001b[0m\u001b[0mkey\u001b[0m\u001b[1;33m)\u001b[0m\u001b[1;33m\u001b[0m\u001b[0m\n\u001b[0m\u001b[0;32m   2741\u001b[0m \u001b[1;33m\u001b[0m\u001b[0m\n\u001b[0;32m   2742\u001b[0m         \u001b[1;31m# delete from the caches\u001b[0m\u001b[1;33m\u001b[0m\u001b[1;33m\u001b[0m\u001b[0m\n",
      "\u001b[1;32m~\\Anaconda3\\lib\\site-packages\\pandas\\core\\internals.py\u001b[0m in \u001b[0;36mdelete\u001b[1;34m(self, item)\u001b[0m\n\u001b[0;32m   4172\u001b[0m         \u001b[0mDelete\u001b[0m \u001b[0mselected\u001b[0m \u001b[0mitem\u001b[0m \u001b[1;33m(\u001b[0m\u001b[0mitems\u001b[0m \u001b[1;32mif\u001b[0m \u001b[0mnon\u001b[0m\u001b[1;33m-\u001b[0m\u001b[0munique\u001b[0m\u001b[1;33m)\u001b[0m \u001b[1;32min\u001b[0m\u001b[1;33m-\u001b[0m\u001b[0mplace\u001b[0m\u001b[1;33m.\u001b[0m\u001b[1;33m\u001b[0m\u001b[0m\n\u001b[0;32m   4173\u001b[0m         \"\"\"\n\u001b[1;32m-> 4174\u001b[1;33m         \u001b[0mindexer\u001b[0m \u001b[1;33m=\u001b[0m \u001b[0mself\u001b[0m\u001b[1;33m.\u001b[0m\u001b[0mitems\u001b[0m\u001b[1;33m.\u001b[0m\u001b[0mget_loc\u001b[0m\u001b[1;33m(\u001b[0m\u001b[0mitem\u001b[0m\u001b[1;33m)\u001b[0m\u001b[1;33m\u001b[0m\u001b[0m\n\u001b[0m\u001b[0;32m   4175\u001b[0m \u001b[1;33m\u001b[0m\u001b[0m\n\u001b[0;32m   4176\u001b[0m         \u001b[0mis_deleted\u001b[0m \u001b[1;33m=\u001b[0m \u001b[0mnp\u001b[0m\u001b[1;33m.\u001b[0m\u001b[0mzeros\u001b[0m\u001b[1;33m(\u001b[0m\u001b[0mself\u001b[0m\u001b[1;33m.\u001b[0m\u001b[0mshape\u001b[0m\u001b[1;33m[\u001b[0m\u001b[1;36m0\u001b[0m\u001b[1;33m]\u001b[0m\u001b[1;33m,\u001b[0m \u001b[0mdtype\u001b[0m\u001b[1;33m=\u001b[0m\u001b[0mnp\u001b[0m\u001b[1;33m.\u001b[0m\u001b[0mbool_\u001b[0m\u001b[1;33m)\u001b[0m\u001b[1;33m\u001b[0m\u001b[0m\n",
      "\u001b[1;32m~\\Anaconda3\\lib\\site-packages\\pandas\\core\\indexes\\base.py\u001b[0m in \u001b[0;36mget_loc\u001b[1;34m(self, key, method, tolerance)\u001b[0m\n\u001b[0;32m   3063\u001b[0m                 \u001b[1;32mreturn\u001b[0m \u001b[0mself\u001b[0m\u001b[1;33m.\u001b[0m\u001b[0m_engine\u001b[0m\u001b[1;33m.\u001b[0m\u001b[0mget_loc\u001b[0m\u001b[1;33m(\u001b[0m\u001b[0mkey\u001b[0m\u001b[1;33m)\u001b[0m\u001b[1;33m\u001b[0m\u001b[0m\n\u001b[0;32m   3064\u001b[0m             \u001b[1;32mexcept\u001b[0m \u001b[0mKeyError\u001b[0m\u001b[1;33m:\u001b[0m\u001b[1;33m\u001b[0m\u001b[0m\n\u001b[1;32m-> 3065\u001b[1;33m                 \u001b[1;32mreturn\u001b[0m \u001b[0mself\u001b[0m\u001b[1;33m.\u001b[0m\u001b[0m_engine\u001b[0m\u001b[1;33m.\u001b[0m\u001b[0mget_loc\u001b[0m\u001b[1;33m(\u001b[0m\u001b[0mself\u001b[0m\u001b[1;33m.\u001b[0m\u001b[0m_maybe_cast_indexer\u001b[0m\u001b[1;33m(\u001b[0m\u001b[0mkey\u001b[0m\u001b[1;33m)\u001b[0m\u001b[1;33m)\u001b[0m\u001b[1;33m\u001b[0m\u001b[0m\n\u001b[0m\u001b[0;32m   3066\u001b[0m \u001b[1;33m\u001b[0m\u001b[0m\n\u001b[0;32m   3067\u001b[0m         \u001b[0mindexer\u001b[0m \u001b[1;33m=\u001b[0m \u001b[0mself\u001b[0m\u001b[1;33m.\u001b[0m\u001b[0mget_indexer\u001b[0m\u001b[1;33m(\u001b[0m\u001b[1;33m[\u001b[0m\u001b[0mkey\u001b[0m\u001b[1;33m]\u001b[0m\u001b[1;33m,\u001b[0m \u001b[0mmethod\u001b[0m\u001b[1;33m=\u001b[0m\u001b[0mmethod\u001b[0m\u001b[1;33m,\u001b[0m \u001b[0mtolerance\u001b[0m\u001b[1;33m=\u001b[0m\u001b[0mtolerance\u001b[0m\u001b[1;33m)\u001b[0m\u001b[1;33m\u001b[0m\u001b[0m\n",
      "\u001b[1;32mpandas\\_libs\\index.pyx\u001b[0m in \u001b[0;36mpandas._libs.index.IndexEngine.get_loc\u001b[1;34m()\u001b[0m\n",
      "\u001b[1;32mpandas\\_libs\\index.pyx\u001b[0m in \u001b[0;36mpandas._libs.index.IndexEngine.get_loc\u001b[1;34m()\u001b[0m\n",
      "\u001b[1;32mpandas\\_libs\\hashtable_class_helper.pxi\u001b[0m in \u001b[0;36mpandas._libs.hashtable.PyObjectHashTable.get_item\u001b[1;34m()\u001b[0m\n",
      "\u001b[1;32mpandas\\_libs\\hashtable_class_helper.pxi\u001b[0m in \u001b[0;36mpandas._libs.hashtable.PyObjectHashTable.get_item\u001b[1;34m()\u001b[0m\n",
      "\u001b[1;31mKeyError\u001b[0m: '연번'"
     ]
    }
   ],
   "source": [
    "del df['연번']\n",
    "del df['부서명']"
   ]
  },
  {
   "cell_type": "code",
   "execution_count": null,
   "metadata": {},
   "outputs": [],
   "source": [
    "df.head(2)"
   ]
  },
  {
   "cell_type": "code",
   "execution_count": 20,
   "metadata": {
    "colab": {
     "autoexec": {
      "startup": false,
      "wait_interval": 0
     },
     "base_uri": "https://localhost:8080/",
     "height": 210
    },
    "colab_type": "code",
    "executionInfo": {
     "elapsed": 567,
     "status": "ok",
     "timestamp": 1532793565977,
     "user": {
      "displayName": "jeeyun lee",
      "photoUrl": "https://lh3.googleusercontent.com/a/default-user=s128",
      "userId": "106132043570557958485"
     },
     "user_tz": -540
    },
    "id": "7B81RzEDfyXz",
    "outputId": "2184e934-bd6f-4f19-ba03-f880c4571d49"
   },
   "outputs": [
    {
     "data": {
      "text/html": [
       "<div>\n",
       "<style scoped>\n",
       "    .dataframe tbody tr th:only-of-type {\n",
       "        vertical-align: middle;\n",
       "    }\n",
       "\n",
       "    .dataframe tbody tr th {\n",
       "        vertical-align: top;\n",
       "    }\n",
       "\n",
       "    .dataframe thead th {\n",
       "        text-align: right;\n",
       "    }\n",
       "</style>\n",
       "<table border=\"1\" class=\"dataframe\">\n",
       "  <thead>\n",
       "    <tr style=\"text-align: right;\">\n",
       "      <th></th>\n",
       "      <th>연번</th>\n",
       "      <th>부서명</th>\n",
       "      <th>집행일시</th>\n",
       "      <th>집행장소</th>\n",
       "      <th>집행목적</th>\n",
       "      <th>대상인원</th>\n",
       "      <th>결제방법</th>\n",
       "      <th>집행금액</th>\n",
       "      <th>1소속부서</th>\n",
       "    </tr>\n",
       "  </thead>\n",
       "  <tbody>\n",
       "    <tr>\n",
       "      <th>5</th>\n",
       "      <td>6</td>\n",
       "      <td>경제진흥본부 도시농업과</td>\n",
       "      <td>2017-02-23 13:02</td>\n",
       "      <td>우도일식 (중구 태평로1가 지하1층)</td>\n",
       "      <td>도시농업 민간단체 공모사업추진간담회</td>\n",
       "      <td>도시농업과장, 도시농업지원팀장 등 4명</td>\n",
       "      <td>카드</td>\n",
       "      <td>60000</td>\n",
       "      <td>경제진흥본부&amp;dept[]=창조경제기획관</td>\n",
       "    </tr>\n",
       "    <tr>\n",
       "      <th>6</th>\n",
       "      <td>7</td>\n",
       "      <td>경제진흥본부 도시농업과</td>\n",
       "      <td>2017-02-28 16:47</td>\n",
       "      <td>장군보쌈 (중구 무교로 19)</td>\n",
       "      <td>직원 인사이동에 따른 직원격려 간담회</td>\n",
       "      <td>도시농업과장 및 도시농업과직원 27명</td>\n",
       "      <td>카드</td>\n",
       "      <td>470000</td>\n",
       "      <td>경제진흥본부&amp;dept[]=창조경제기획관</td>\n",
       "    </tr>\n",
       "  </tbody>\n",
       "</table>\n",
       "</div>"
      ],
      "text/plain": [
       "   연번           부서명              집행일시                  집행장소  \\\n",
       "5   6  경제진흥본부 도시농업과  2017-02-23 13:02  우도일식 (중구 태평로1가 지하1층)   \n",
       "6   7  경제진흥본부 도시농업과  2017-02-28 16:47      장군보쌈 (중구 무교로 19)   \n",
       "\n",
       "                   집행목적                   대상인원 결제방법    집행금액  \\\n",
       "5   도시농업 민간단체 공모사업추진간담회  도시농업과장, 도시농업지원팀장 등 4명   카드   60000   \n",
       "6  직원 인사이동에 따른 직원격려 간담회   도시농업과장 및 도시농업과직원 27명   카드  470000   \n",
       "\n",
       "                   1소속부서  \n",
       "5  경제진흥본부&dept[]=창조경제기획관  \n",
       "6  경제진흥본부&dept[]=창조경제기획관  "
      ]
     },
     "execution_count": 20,
     "metadata": {},
     "output_type": "execute_result"
    }
   ],
   "source": [
    "df.tail(2)"
   ]
  },
  {
   "cell_type": "code",
   "execution_count": null,
   "metadata": {
    "colab": {
     "autoexec": {
      "startup": false,
      "wait_interval": 0
     }
    },
    "colab_type": "code",
    "id": "riEGxULcnUZ6"
   },
   "outputs": [],
   "source": []
  }
 ],
 "metadata": {
  "colab": {
   "collapsed_sections": [],
   "default_view": {},
   "name": "서울시업무추진비데이터_2.ipynb",
   "provenance": [],
   "version": "0.3.2",
   "views": {}
  },
  "kernelspec": {
   "display_name": "Python 3",
   "language": "python",
   "name": "python3"
  },
  "language_info": {
   "codemirror_mode": {
    "name": "ipython",
    "version": 3
   },
   "file_extension": ".py",
   "mimetype": "text/x-python",
   "name": "python",
   "nbconvert_exporter": "python",
   "pygments_lexer": "ipython3",
   "version": "3.6.5"
  }
 },
 "nbformat": 4,
 "nbformat_minor": 1
}
