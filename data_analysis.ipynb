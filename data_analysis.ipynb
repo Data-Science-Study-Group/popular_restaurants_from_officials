{
 "cells": [
  {
   "cell_type": "code",
   "execution_count": 34,
   "metadata": {},
   "outputs": [],
   "source": [
    "import pandas as pd\n",
    "import numpy as np"
   ]
  },
  {
   "cell_type": "code",
   "execution_count": 57,
   "metadata": {},
   "outputs": [],
   "source": [
    "df = pd.read_csv('tidy_2.csv')"
   ]
  },
  {
   "cell_type": "markdown",
   "metadata": {},
   "source": [
    "## 새로운 칼럼 만들기"
   ]
  },
  {
   "cell_type": "markdown",
   "metadata": {},
   "source": [
    "### 1) 대상인원 칼럼 만들기"
   ]
  },
  {
   "cell_type": "code",
   "execution_count": 58,
   "metadata": {},
   "outputs": [],
   "source": [
    "df['대상인원'] = df['대상인원'].copy().str.extract(r'[\\s|외|총|등](\\d+)\\s?[명|인]?')\n",
    "# 대상인원이 없는 경우 운전기사 회식, 격려금 지급 등 맛집과 상관없는 경우가 많으니 삭제\n",
    "df = df.dropna(axis=0, subset=['대상인원'], how='all')\n",
    "df['대상인원'] = df['대상인원'].copy().astype(int)"
   ]
  },
  {
   "cell_type": "markdown",
   "metadata": {},
   "source": [
    "### 2) 집행지명으로 그룹화하기"
   ]
  },
  {
   "cell_type": "code",
   "execution_count": 71,
   "metadata": {},
   "outputs": [
    {
     "data": {
      "text/html": [
       "<div>\n",
       "<style scoped>\n",
       "    .dataframe tbody tr th:only-of-type {\n",
       "        vertical-align: middle;\n",
       "    }\n",
       "\n",
       "    .dataframe tbody tr th {\n",
       "        vertical-align: top;\n",
       "    }\n",
       "\n",
       "    .dataframe thead th {\n",
       "        text-align: right;\n",
       "    }\n",
       "</style>\n",
       "<table border=\"1\" class=\"dataframe\">\n",
       "  <thead>\n",
       "    <tr style=\"text-align: right;\">\n",
       "      <th></th>\n",
       "      <th>집행지명</th>\n",
       "      <th>cnt</th>\n",
       "      <th>집행금액</th>\n",
       "      <th>대상인원</th>\n",
       "    </tr>\n",
       "  </thead>\n",
       "  <tbody>\n",
       "    <tr>\n",
       "      <th>0</th>\n",
       "      <td>(사)탈북여성지원</td>\n",
       "      <td>1</td>\n",
       "      <td>15500.0</td>\n",
       "      <td>3</td>\n",
       "    </tr>\n",
       "    <tr>\n",
       "      <th>1</th>\n",
       "      <td>(사)탈북여성지원지에프에스우물가</td>\n",
       "      <td>1</td>\n",
       "      <td>25000.0</td>\n",
       "      <td>7</td>\n",
       "    </tr>\n",
       "    <tr>\n",
       "      <th>2</th>\n",
       "      <td>(주)강가</td>\n",
       "      <td>1</td>\n",
       "      <td>160000.0</td>\n",
       "      <td>7</td>\n",
       "    </tr>\n",
       "  </tbody>\n",
       "</table>\n",
       "</div>"
      ],
      "text/plain": [
       "                집행지명  cnt      집행금액  대상인원\n",
       "0          (사)탈북여성지원    1   15500.0     3\n",
       "1  (사)탈북여성지원지에프에스우물가    1   25000.0     7\n",
       "2              (주)강가    1  160000.0     7"
      ]
     },
     "execution_count": 71,
     "metadata": {},
     "output_type": "execute_result"
    }
   ],
   "source": [
    "df_group = df.groupby('집행지명')\\\n",
    "            ['집행지명', 'cnt', '집행금액', '대상인원']\\\n",
    "            .sum().reset_index()\n",
    "df_group.head(3)"
   ]
  },
  {
   "cell_type": "code",
   "execution_count": 72,
   "metadata": {},
   "outputs": [
    {
     "data": {
      "text/html": [
       "<div>\n",
       "<style scoped>\n",
       "    .dataframe tbody tr th:only-of-type {\n",
       "        vertical-align: middle;\n",
       "    }\n",
       "\n",
       "    .dataframe tbody tr th {\n",
       "        vertical-align: top;\n",
       "    }\n",
       "\n",
       "    .dataframe thead th {\n",
       "        text-align: right;\n",
       "    }\n",
       "</style>\n",
       "<table border=\"1\" class=\"dataframe\">\n",
       "  <thead>\n",
       "    <tr style=\"text-align: right;\">\n",
       "      <th></th>\n",
       "      <th>집행지명</th>\n",
       "      <th>cnt</th>\n",
       "      <th>집행금액</th>\n",
       "      <th>대상인원</th>\n",
       "      <th>회당집행금액</th>\n",
       "      <th>인당집행금액</th>\n",
       "    </tr>\n",
       "  </thead>\n",
       "  <tbody>\n",
       "    <tr>\n",
       "      <th>0</th>\n",
       "      <td>(사)탈북여성지원</td>\n",
       "      <td>1</td>\n",
       "      <td>15500.0</td>\n",
       "      <td>3</td>\n",
       "      <td>15500.0</td>\n",
       "      <td>5166.666667</td>\n",
       "    </tr>\n",
       "    <tr>\n",
       "      <th>1</th>\n",
       "      <td>(사)탈북여성지원지에프에스우물가</td>\n",
       "      <td>1</td>\n",
       "      <td>25000.0</td>\n",
       "      <td>7</td>\n",
       "      <td>25000.0</td>\n",
       "      <td>3571.428571</td>\n",
       "    </tr>\n",
       "    <tr>\n",
       "      <th>2</th>\n",
       "      <td>(주)강가</td>\n",
       "      <td>1</td>\n",
       "      <td>160000.0</td>\n",
       "      <td>7</td>\n",
       "      <td>160000.0</td>\n",
       "      <td>22857.142857</td>\n",
       "    </tr>\n",
       "  </tbody>\n",
       "</table>\n",
       "</div>"
      ],
      "text/plain": [
       "                집행지명  cnt      집행금액  대상인원    회당집행금액        인당집행금액\n",
       "0          (사)탈북여성지원    1   15500.0     3   15500.0   5166.666667\n",
       "1  (사)탈북여성지원지에프에스우물가    1   25000.0     7   25000.0   3571.428571\n",
       "2              (주)강가    1  160000.0     7  160000.0  22857.142857"
      ]
     },
     "execution_count": 72,
     "metadata": {},
     "output_type": "execute_result"
    }
   ],
   "source": [
    "# 회당, 인당 금액을 구해보자. \n",
    "df_group['회당집행금액'] = df_group['집행금액'] / df_group['cnt']\n",
    "df_group['인당집행금액'] = df_group['집행금액'] / df_group['대상인원']\n",
    "df_group.head(3)"
   ]
  },
  {
   "cell_type": "markdown",
   "metadata": {},
   "source": [
    "## 카테고리별 맛집"
   ]
  },
  {
   "cell_type": "markdown",
   "metadata": {},
   "source": [
    "### 1. 가장 자주 간 식당 (전체 공무원)"
   ]
  },
  {
   "cell_type": "code",
   "execution_count": 75,
   "metadata": {},
   "outputs": [
    {
     "data": {
      "text/html": [
       "<div>\n",
       "<style scoped>\n",
       "    .dataframe tbody tr th:only-of-type {\n",
       "        vertical-align: middle;\n",
       "    }\n",
       "\n",
       "    .dataframe tbody tr th {\n",
       "        vertical-align: top;\n",
       "    }\n",
       "\n",
       "    .dataframe thead th {\n",
       "        text-align: right;\n",
       "    }\n",
       "</style>\n",
       "<table border=\"1\" class=\"dataframe\">\n",
       "  <thead>\n",
       "    <tr style=\"text-align: right;\">\n",
       "      <th></th>\n",
       "      <th>집행지명</th>\n",
       "      <th>cnt</th>\n",
       "      <th>집행금액</th>\n",
       "      <th>대상인원</th>\n",
       "      <th>회당집행금액</th>\n",
       "      <th>인당집행금액</th>\n",
       "    </tr>\n",
       "  </thead>\n",
       "  <tbody>\n",
       "    <tr>\n",
       "      <th>2079</th>\n",
       "      <td>우도일식</td>\n",
       "      <td>307</td>\n",
       "      <td>41795800.0</td>\n",
       "      <td>1936</td>\n",
       "      <td>136142.671010</td>\n",
       "      <td>21588.739669</td>\n",
       "    </tr>\n",
       "    <tr>\n",
       "      <th>2519</th>\n",
       "      <td>참숯골</td>\n",
       "      <td>261</td>\n",
       "      <td>33933380.0</td>\n",
       "      <td>1879</td>\n",
       "      <td>130012.950192</td>\n",
       "      <td>18059.276211</td>\n",
       "    </tr>\n",
       "    <tr>\n",
       "      <th>416</th>\n",
       "      <td>구이구이</td>\n",
       "      <td>248</td>\n",
       "      <td>23512200.0</td>\n",
       "      <td>1335</td>\n",
       "      <td>94807.258065</td>\n",
       "      <td>17612.134831</td>\n",
       "    </tr>\n",
       "  </tbody>\n",
       "</table>\n",
       "</div>"
      ],
      "text/plain": [
       "      집행지명  cnt        집행금액  대상인원         회당집행금액        인당집행금액\n",
       "2079  우도일식  307  41795800.0  1936  136142.671010  21588.739669\n",
       "2519   참숯골  261  33933380.0  1879  130012.950192  18059.276211\n",
       "416   구이구이  248  23512200.0  1335   94807.258065  17612.134831"
      ]
     },
     "execution_count": 75,
     "metadata": {},
     "output_type": "execute_result"
    }
   ],
   "source": [
    "df_group.sort_values(by='cnt', ascending=False).head(3)"
   ]
  },
  {
   "cell_type": "markdown",
   "metadata": {},
   "source": [
    "### 2. 가장 돈을 많이 쓴 식당 (전체 공무원)"
   ]
  },
  {
   "cell_type": "code",
   "execution_count": 76,
   "metadata": {},
   "outputs": [
    {
     "data": {
      "text/html": [
       "<div>\n",
       "<style scoped>\n",
       "    .dataframe tbody tr th:only-of-type {\n",
       "        vertical-align: middle;\n",
       "    }\n",
       "\n",
       "    .dataframe tbody tr th {\n",
       "        vertical-align: top;\n",
       "    }\n",
       "\n",
       "    .dataframe thead th {\n",
       "        text-align: right;\n",
       "    }\n",
       "</style>\n",
       "<table border=\"1\" class=\"dataframe\">\n",
       "  <thead>\n",
       "    <tr style=\"text-align: right;\">\n",
       "      <th></th>\n",
       "      <th>집행지명</th>\n",
       "      <th>cnt</th>\n",
       "      <th>집행금액</th>\n",
       "      <th>대상인원</th>\n",
       "      <th>회당집행금액</th>\n",
       "      <th>인당집행금액</th>\n",
       "    </tr>\n",
       "  </thead>\n",
       "  <tbody>\n",
       "    <tr>\n",
       "      <th>2079</th>\n",
       "      <td>우도일식</td>\n",
       "      <td>307</td>\n",
       "      <td>41795800.0</td>\n",
       "      <td>1936</td>\n",
       "      <td>136142.671010</td>\n",
       "      <td>21588.739669</td>\n",
       "    </tr>\n",
       "    <tr>\n",
       "      <th>2519</th>\n",
       "      <td>참숯골</td>\n",
       "      <td>261</td>\n",
       "      <td>33933380.0</td>\n",
       "      <td>1879</td>\n",
       "      <td>130012.950192</td>\n",
       "      <td>18059.276211</td>\n",
       "    </tr>\n",
       "    <tr>\n",
       "      <th>801</th>\n",
       "      <td>동해일식</td>\n",
       "      <td>168</td>\n",
       "      <td>29451000.0</td>\n",
       "      <td>1206</td>\n",
       "      <td>175303.571429</td>\n",
       "      <td>24420.398010</td>\n",
       "    </tr>\n",
       "  </tbody>\n",
       "</table>\n",
       "</div>"
      ],
      "text/plain": [
       "      집행지명  cnt        집행금액  대상인원         회당집행금액        인당집행금액\n",
       "2079  우도일식  307  41795800.0  1936  136142.671010  21588.739669\n",
       "2519   참숯골  261  33933380.0  1879  130012.950192  18059.276211\n",
       "801   동해일식  168  29451000.0  1206  175303.571429  24420.398010"
      ]
     },
     "execution_count": 76,
     "metadata": {},
     "output_type": "execute_result"
    }
   ],
   "source": [
    "df_group.sort_values(by='집행금액', ascending=False).head(3)"
   ]
  },
  {
   "cell_type": "markdown",
   "metadata": {},
   "source": [
    "### 3. 회당 집행금액이 가장 많은 식당\n",
    "(10회 이상 방문, 전체 공무원)"
   ]
  },
  {
   "cell_type": "code",
   "execution_count": 87,
   "metadata": {},
   "outputs": [
    {
     "data": {
      "text/html": [
       "<div>\n",
       "<style scoped>\n",
       "    .dataframe tbody tr th:only-of-type {\n",
       "        vertical-align: middle;\n",
       "    }\n",
       "\n",
       "    .dataframe tbody tr th {\n",
       "        vertical-align: top;\n",
       "    }\n",
       "\n",
       "    .dataframe thead th {\n",
       "        text-align: right;\n",
       "    }\n",
       "</style>\n",
       "<table border=\"1\" class=\"dataframe\">\n",
       "  <thead>\n",
       "    <tr style=\"text-align: right;\">\n",
       "      <th></th>\n",
       "      <th>집행지명</th>\n",
       "      <th>cnt</th>\n",
       "      <th>집행금액</th>\n",
       "      <th>대상인원</th>\n",
       "      <th>회당집행금액</th>\n",
       "      <th>인당집행금액</th>\n",
       "    </tr>\n",
       "  </thead>\n",
       "  <tbody>\n",
       "    <tr>\n",
       "      <th>677</th>\n",
       "      <td>더미</td>\n",
       "      <td>62</td>\n",
       "      <td>19996000.0</td>\n",
       "      <td>778</td>\n",
       "      <td>322516.129032</td>\n",
       "      <td>25701.799486</td>\n",
       "    </tr>\n",
       "    <tr>\n",
       "      <th>2482</th>\n",
       "      <td>진미족발</td>\n",
       "      <td>26</td>\n",
       "      <td>7997000.0</td>\n",
       "      <td>430</td>\n",
       "      <td>307576.923077</td>\n",
       "      <td>18597.674419</td>\n",
       "    </tr>\n",
       "    <tr>\n",
       "      <th>2938</th>\n",
       "      <td>한국회관</td>\n",
       "      <td>13</td>\n",
       "      <td>3618000.0</td>\n",
       "      <td>194</td>\n",
       "      <td>278307.692308</td>\n",
       "      <td>18649.484536</td>\n",
       "    </tr>\n",
       "  </tbody>\n",
       "</table>\n",
       "</div>"
      ],
      "text/plain": [
       "      집행지명  cnt        집행금액  대상인원         회당집행금액        인당집행금액\n",
       "677     더미   62  19996000.0   778  322516.129032  25701.799486\n",
       "2482  진미족발   26   7997000.0   430  307576.923077  18597.674419\n",
       "2938  한국회관   13   3618000.0   194  278307.692308  18649.484536"
      ]
     },
     "execution_count": 87,
     "metadata": {},
     "output_type": "execute_result"
    }
   ],
   "source": [
    "df_group_5_up = df_group[df_group['cnt']>10]\n",
    "df_group_5_up.sort_values(by='회당집행금액', ascending=False).head(3)"
   ]
  },
  {
   "cell_type": "markdown",
   "metadata": {},
   "source": [
    "### 4. 인당 집행금액이 가장 많은 식당\n",
    "(10회 이상 방문, 전체 공무원)"
   ]
  },
  {
   "cell_type": "code",
   "execution_count": 88,
   "metadata": {},
   "outputs": [
    {
     "data": {
      "text/html": [
       "<div>\n",
       "<style scoped>\n",
       "    .dataframe tbody tr th:only-of-type {\n",
       "        vertical-align: middle;\n",
       "    }\n",
       "\n",
       "    .dataframe tbody tr th {\n",
       "        vertical-align: top;\n",
       "    }\n",
       "\n",
       "    .dataframe thead th {\n",
       "        text-align: right;\n",
       "    }\n",
       "</style>\n",
       "<table border=\"1\" class=\"dataframe\">\n",
       "  <thead>\n",
       "    <tr style=\"text-align: right;\">\n",
       "      <th></th>\n",
       "      <th>집행지명</th>\n",
       "      <th>cnt</th>\n",
       "      <th>집행금액</th>\n",
       "      <th>대상인원</th>\n",
       "      <th>회당집행금액</th>\n",
       "      <th>인당집행금액</th>\n",
       "    </tr>\n",
       "  </thead>\n",
       "  <tbody>\n",
       "    <tr>\n",
       "      <th>1100</th>\n",
       "      <td>몽중헌</td>\n",
       "      <td>15</td>\n",
       "      <td>2581600.0</td>\n",
       "      <td>94</td>\n",
       "      <td>172106.666667</td>\n",
       "      <td>27463.829787</td>\n",
       "    </tr>\n",
       "    <tr>\n",
       "      <th>1613</th>\n",
       "      <td>송원복집</td>\n",
       "      <td>17</td>\n",
       "      <td>2434000.0</td>\n",
       "      <td>89</td>\n",
       "      <td>143176.470588</td>\n",
       "      <td>27348.314607</td>\n",
       "    </tr>\n",
       "    <tr>\n",
       "      <th>780</th>\n",
       "      <td>동원브이아이피참치</td>\n",
       "      <td>19</td>\n",
       "      <td>3599000.0</td>\n",
       "      <td>134</td>\n",
       "      <td>189421.052632</td>\n",
       "      <td>26858.208955</td>\n",
       "    </tr>\n",
       "  </tbody>\n",
       "</table>\n",
       "</div>"
      ],
      "text/plain": [
       "           집행지명  cnt       집행금액  대상인원         회당집행금액        인당집행금액\n",
       "1100        몽중헌   15  2581600.0    94  172106.666667  27463.829787\n",
       "1613       송원복집   17  2434000.0    89  143176.470588  27348.314607\n",
       "780   동원브이아이피참치   19  3599000.0   134  189421.052632  26858.208955"
      ]
     },
     "execution_count": 88,
     "metadata": {},
     "output_type": "execute_result"
    }
   ],
   "source": [
    "df_group_5_up = df_group[df_group['cnt']>10]\n",
    "df_group_5_up.sort_values(by='인당집행금액', ascending=False).head(3)"
   ]
  },
  {
   "cell_type": "markdown",
   "metadata": {},
   "source": [
    "## 부서별로 살펴보기"
   ]
  },
  {
   "cell_type": "code",
   "execution_count": 102,
   "metadata": {},
   "outputs": [
    {
     "data": {
      "text/html": [
       "<div>\n",
       "<style scoped>\n",
       "    .dataframe tbody tr th:only-of-type {\n",
       "        vertical-align: middle;\n",
       "    }\n",
       "\n",
       "    .dataframe tbody tr th {\n",
       "        vertical-align: top;\n",
       "    }\n",
       "\n",
       "    .dataframe thead th {\n",
       "        text-align: right;\n",
       "    }\n",
       "</style>\n",
       "<table border=\"1\" class=\"dataframe\">\n",
       "  <thead>\n",
       "    <tr style=\"text-align: right;\">\n",
       "      <th></th>\n",
       "      <th>1소속부서</th>\n",
       "      <th>cnt</th>\n",
       "      <th>대상인원</th>\n",
       "      <th>집행금액</th>\n",
       "    </tr>\n",
       "  </thead>\n",
       "  <tbody>\n",
       "    <tr>\n",
       "      <th>0</th>\n",
       "      <td>감사위원회</td>\n",
       "      <td>435</td>\n",
       "      <td>2483</td>\n",
       "      <td>44830570.0</td>\n",
       "    </tr>\n",
       "    <tr>\n",
       "      <th>1</th>\n",
       "      <td>관광체육국</td>\n",
       "      <td>892</td>\n",
       "      <td>4762</td>\n",
       "      <td>83613736.0</td>\n",
       "    </tr>\n",
       "    <tr>\n",
       "      <th>2</th>\n",
       "      <td>기술심사담당관</td>\n",
       "      <td>83</td>\n",
       "      <td>702</td>\n",
       "      <td>10756895.0</td>\n",
       "    </tr>\n",
       "  </tbody>\n",
       "</table>\n",
       "</div>"
      ],
      "text/plain": [
       "     1소속부서  cnt  대상인원        집행금액\n",
       "0    감사위원회  435  2483  44830570.0\n",
       "1    관광체육국  892  4762  83613736.0\n",
       "2  기술심사담당관   83   702  10756895.0"
      ]
     },
     "execution_count": 102,
     "metadata": {},
     "output_type": "execute_result"
    }
   ],
   "source": [
    "# 부서별로 묶기\n",
    "df_divs = df.groupby('1소속부서')['cnt', '대상인원', '집행금액']\\\n",
    "        .sum().reset_index()\n",
    "df_divs.head(3)"
   ]
  },
  {
   "cell_type": "code",
   "execution_count": 107,
   "metadata": {},
   "outputs": [],
   "source": [
    "# 인당/회당 금액 내기\n",
    "df_divs['인당집행금액'] = df_divs['집행금액'] / df_divs['대상인원']\n",
    "df_divs['회당집행금액'] = df_divs['집행금액'] / df_divs['cnt']"
   ]
  },
  {
   "cell_type": "markdown",
   "metadata": {},
   "source": [
    "### 1. 가장 회식을 자주 한 부서"
   ]
  },
  {
   "cell_type": "code",
   "execution_count": 120,
   "metadata": {},
   "outputs": [
    {
     "data": {
      "text/html": [
       "<div>\n",
       "<style scoped>\n",
       "    .dataframe tbody tr th:only-of-type {\n",
       "        vertical-align: middle;\n",
       "    }\n",
       "\n",
       "    .dataframe tbody tr th {\n",
       "        vertical-align: top;\n",
       "    }\n",
       "\n",
       "    .dataframe thead th {\n",
       "        text-align: right;\n",
       "    }\n",
       "</style>\n",
       "<table border=\"1\" class=\"dataframe\">\n",
       "  <thead>\n",
       "    <tr style=\"text-align: right;\">\n",
       "      <th></th>\n",
       "      <th>1소속부서</th>\n",
       "      <th>cnt</th>\n",
       "      <th>대상인원</th>\n",
       "      <th>집행금액</th>\n",
       "      <th>인당집행금액</th>\n",
       "      <th>회당집행금액</th>\n",
       "    </tr>\n",
       "  </thead>\n",
       "  <tbody>\n",
       "    <tr>\n",
       "      <th>25</th>\n",
       "      <td>행정국</td>\n",
       "      <td>1335</td>\n",
       "      <td>8073</td>\n",
       "      <td>171576540.0</td>\n",
       "      <td>21253.132664</td>\n",
       "      <td>128521.752809</td>\n",
       "    </tr>\n",
       "    <tr>\n",
       "      <th>15</th>\n",
       "      <td>시민소통기획관</td>\n",
       "      <td>1320</td>\n",
       "      <td>9327</td>\n",
       "      <td>199958077.0</td>\n",
       "      <td>21438.627319</td>\n",
       "      <td>151483.391667</td>\n",
       "    </tr>\n",
       "    <tr>\n",
       "      <th>4</th>\n",
       "      <td>기후환경본부</td>\n",
       "      <td>990</td>\n",
       "      <td>5594</td>\n",
       "      <td>97037616.0</td>\n",
       "      <td>17346.731498</td>\n",
       "      <td>98017.793939</td>\n",
       "    </tr>\n",
       "  </tbody>\n",
       "</table>\n",
       "</div>"
      ],
      "text/plain": [
       "      1소속부서   cnt  대상인원         집행금액        인당집행금액         회당집행금액\n",
       "25      행정국  1335  8073  171576540.0  21253.132664  128521.752809\n",
       "15  시민소통기획관  1320  9327  199958077.0  21438.627319  151483.391667\n",
       "4    기후환경본부   990  5594   97037616.0  17346.731498   98017.793939"
      ]
     },
     "execution_count": 120,
     "metadata": {},
     "output_type": "execute_result"
    }
   ],
   "source": [
    "df_divs.sort_values(by='cnt', ascending=False).head(3)"
   ]
  },
  {
   "cell_type": "markdown",
   "metadata": {},
   "source": [
    "### 2. 가장 돈을 많이 쓴 부서"
   ]
  },
  {
   "cell_type": "code",
   "execution_count": 121,
   "metadata": {},
   "outputs": [
    {
     "data": {
      "text/html": [
       "<div>\n",
       "<style scoped>\n",
       "    .dataframe tbody tr th:only-of-type {\n",
       "        vertical-align: middle;\n",
       "    }\n",
       "\n",
       "    .dataframe tbody tr th {\n",
       "        vertical-align: top;\n",
       "    }\n",
       "\n",
       "    .dataframe thead th {\n",
       "        text-align: right;\n",
       "    }\n",
       "</style>\n",
       "<table border=\"1\" class=\"dataframe\">\n",
       "  <thead>\n",
       "    <tr style=\"text-align: right;\">\n",
       "      <th></th>\n",
       "      <th>1소속부서</th>\n",
       "      <th>cnt</th>\n",
       "      <th>대상인원</th>\n",
       "      <th>집행금액</th>\n",
       "      <th>인당집행금액</th>\n",
       "      <th>회당집행금액</th>\n",
       "    </tr>\n",
       "  </thead>\n",
       "  <tbody>\n",
       "    <tr>\n",
       "      <th>15</th>\n",
       "      <td>시민소통기획관</td>\n",
       "      <td>1320</td>\n",
       "      <td>9327</td>\n",
       "      <td>199958077.0</td>\n",
       "      <td>21438.627319</td>\n",
       "      <td>151483.391667</td>\n",
       "    </tr>\n",
       "    <tr>\n",
       "      <th>25</th>\n",
       "      <td>행정국</td>\n",
       "      <td>1335</td>\n",
       "      <td>8073</td>\n",
       "      <td>171576540.0</td>\n",
       "      <td>21253.132664</td>\n",
       "      <td>128521.752809</td>\n",
       "    </tr>\n",
       "    <tr>\n",
       "      <th>16</th>\n",
       "      <td>안전총괄본부</td>\n",
       "      <td>887</td>\n",
       "      <td>6601</td>\n",
       "      <td>138440157.0</td>\n",
       "      <td>20972.603696</td>\n",
       "      <td>156076.839910</td>\n",
       "    </tr>\n",
       "  </tbody>\n",
       "</table>\n",
       "</div>"
      ],
      "text/plain": [
       "      1소속부서   cnt  대상인원         집행금액        인당집행금액         회당집행금액\n",
       "15  시민소통기획관  1320  9327  199958077.0  21438.627319  151483.391667\n",
       "25      행정국  1335  8073  171576540.0  21253.132664  128521.752809\n",
       "16   안전총괄본부   887  6601  138440157.0  20972.603696  156076.839910"
      ]
     },
     "execution_count": 121,
     "metadata": {},
     "output_type": "execute_result"
    }
   ],
   "source": [
    "df_divs.sort_values(by='집행금액', ascending=False).head(3)"
   ]
  },
  {
   "cell_type": "markdown",
   "metadata": {},
   "source": [
    "관광체육국은 자주 회식을 하는 것에 비해 돈을 많이 쓰지는 않으니 싸고 맛있는 집을 많이 가겠군! 라고 추론해보았다. "
   ]
  },
  {
   "cell_type": "markdown",
   "metadata": {},
   "source": [
    "### 3. 가장 비싼 것을 먹는 부서"
   ]
  },
  {
   "cell_type": "code",
   "execution_count": 124,
   "metadata": {},
   "outputs": [
    {
     "data": {
      "text/html": [
       "<div>\n",
       "<style scoped>\n",
       "    .dataframe tbody tr th:only-of-type {\n",
       "        vertical-align: middle;\n",
       "    }\n",
       "\n",
       "    .dataframe tbody tr th {\n",
       "        vertical-align: top;\n",
       "    }\n",
       "\n",
       "    .dataframe thead th {\n",
       "        text-align: right;\n",
       "    }\n",
       "</style>\n",
       "<table border=\"1\" class=\"dataframe\">\n",
       "  <thead>\n",
       "    <tr style=\"text-align: right;\">\n",
       "      <th></th>\n",
       "      <th>1소속부서</th>\n",
       "      <th>cnt</th>\n",
       "      <th>대상인원</th>\n",
       "      <th>집행금액</th>\n",
       "      <th>인당집행금액</th>\n",
       "      <th>회당집행금액</th>\n",
       "    </tr>\n",
       "  </thead>\n",
       "  <tbody>\n",
       "    <tr>\n",
       "      <th>20</th>\n",
       "      <td>정무부시장</td>\n",
       "      <td>753</td>\n",
       "      <td>4685</td>\n",
       "      <td>115240050.0</td>\n",
       "      <td>24597.662753</td>\n",
       "      <td>153041.235060</td>\n",
       "    </tr>\n",
       "    <tr>\n",
       "      <th>23</th>\n",
       "      <td>행정1부시장</td>\n",
       "      <td>234</td>\n",
       "      <td>1832</td>\n",
       "      <td>44650630.0</td>\n",
       "      <td>24372.614629</td>\n",
       "      <td>190814.658120</td>\n",
       "    </tr>\n",
       "    <tr>\n",
       "      <th>18</th>\n",
       "      <td>일자리노동정책관</td>\n",
       "      <td>549</td>\n",
       "      <td>2626</td>\n",
       "      <td>60448165.0</td>\n",
       "      <td>23019.103199</td>\n",
       "      <td>110105.947177</td>\n",
       "    </tr>\n",
       "    <tr>\n",
       "      <th>5</th>\n",
       "      <td>대변인</td>\n",
       "      <td>976</td>\n",
       "      <td>5410</td>\n",
       "      <td>121820665.0</td>\n",
       "      <td>22517.682994</td>\n",
       "      <td>124816.255123</td>\n",
       "    </tr>\n",
       "    <tr>\n",
       "      <th>10</th>\n",
       "      <td>비상기획관</td>\n",
       "      <td>288</td>\n",
       "      <td>1363</td>\n",
       "      <td>30663150.0</td>\n",
       "      <td>22496.808511</td>\n",
       "      <td>106469.270833</td>\n",
       "    </tr>\n",
       "  </tbody>\n",
       "</table>\n",
       "</div>"
      ],
      "text/plain": [
       "       1소속부서  cnt  대상인원         집행금액        인당집행금액         회당집행금액\n",
       "20     정무부시장  753  4685  115240050.0  24597.662753  153041.235060\n",
       "23    행정1부시장  234  1832   44650630.0  24372.614629  190814.658120\n",
       "18  일자리노동정책관  549  2626   60448165.0  23019.103199  110105.947177\n",
       "5        대변인  976  5410  121820665.0  22517.682994  124816.255123\n",
       "10     비상기획관  288  1363   30663150.0  22496.808511  106469.270833"
      ]
     },
     "execution_count": 124,
     "metadata": {},
     "output_type": "execute_result"
    }
   ],
   "source": [
    "df_divs.sort_values(by='인당집행금액', ascending=False).head(5)"
   ]
  },
  {
   "cell_type": "markdown",
   "metadata": {},
   "source": [
    "### 4. 가장 싼 것을 먹는 부서"
   ]
  },
  {
   "cell_type": "code",
   "execution_count": 125,
   "metadata": {},
   "outputs": [
    {
     "data": {
      "text/html": [
       "<div>\n",
       "<style scoped>\n",
       "    .dataframe tbody tr th:only-of-type {\n",
       "        vertical-align: middle;\n",
       "    }\n",
       "\n",
       "    .dataframe tbody tr th {\n",
       "        vertical-align: top;\n",
       "    }\n",
       "\n",
       "    .dataframe thead th {\n",
       "        text-align: right;\n",
       "    }\n",
       "</style>\n",
       "<table border=\"1\" class=\"dataframe\">\n",
       "  <thead>\n",
       "    <tr style=\"text-align: right;\">\n",
       "      <th></th>\n",
       "      <th>1소속부서</th>\n",
       "      <th>cnt</th>\n",
       "      <th>대상인원</th>\n",
       "      <th>집행금액</th>\n",
       "      <th>인당집행금액</th>\n",
       "      <th>회당집행금액</th>\n",
       "    </tr>\n",
       "  </thead>\n",
       "  <tbody>\n",
       "    <tr>\n",
       "      <th>9</th>\n",
       "      <td>복지본부</td>\n",
       "      <td>612</td>\n",
       "      <td>3328</td>\n",
       "      <td>50729070.0</td>\n",
       "      <td>15243.109976</td>\n",
       "      <td>82890.637255</td>\n",
       "    </tr>\n",
       "    <tr>\n",
       "      <th>2</th>\n",
       "      <td>기술심사담당관</td>\n",
       "      <td>83</td>\n",
       "      <td>702</td>\n",
       "      <td>10756895.0</td>\n",
       "      <td>15323.212251</td>\n",
       "      <td>129601.144578</td>\n",
       "    </tr>\n",
       "    <tr>\n",
       "      <th>6</th>\n",
       "      <td>도시공간개선단</td>\n",
       "      <td>258</td>\n",
       "      <td>1445</td>\n",
       "      <td>22193952.0</td>\n",
       "      <td>15359.136332</td>\n",
       "      <td>86023.069767</td>\n",
       "    </tr>\n",
       "    <tr>\n",
       "      <th>17</th>\n",
       "      <td>여성가족정책실</td>\n",
       "      <td>687</td>\n",
       "      <td>4613</td>\n",
       "      <td>75427795.0</td>\n",
       "      <td>16351.137004</td>\n",
       "      <td>109793.005822</td>\n",
       "    </tr>\n",
       "    <tr>\n",
       "      <th>24</th>\n",
       "      <td>행정2부시장</td>\n",
       "      <td>402</td>\n",
       "      <td>8155</td>\n",
       "      <td>135462850.0</td>\n",
       "      <td>16611.017781</td>\n",
       "      <td>336972.263682</td>\n",
       "    </tr>\n",
       "  </tbody>\n",
       "</table>\n",
       "</div>"
      ],
      "text/plain": [
       "      1소속부서  cnt  대상인원         집행금액        인당집행금액         회당집행금액\n",
       "9      복지본부  612  3328   50729070.0  15243.109976   82890.637255\n",
       "2   기술심사담당관   83   702   10756895.0  15323.212251  129601.144578\n",
       "6   도시공간개선단  258  1445   22193952.0  15359.136332   86023.069767\n",
       "17  여성가족정책실  687  4613   75427795.0  16351.137004  109793.005822\n",
       "24   행정2부시장  402  8155  135462850.0  16611.017781  336972.263682"
      ]
     },
     "execution_count": 125,
     "metadata": {},
     "output_type": "execute_result"
    }
   ],
   "source": [
    "df_divs.sort_values(by='인당집행금액', ascending=True).head(5)"
   ]
  },
  {
   "cell_type": "markdown",
   "metadata": {},
   "source": [
    "행정1부시장에 비해 행정2부시장이 가성비맛집을 많이 갈 확률이 높다!"
   ]
  }
 ],
 "metadata": {
  "kernelspec": {
   "display_name": "Python 3",
   "language": "python",
   "name": "python3"
  },
  "language_info": {
   "codemirror_mode": {
    "name": "ipython",
    "version": 3
   },
   "file_extension": ".py",
   "mimetype": "text/x-python",
   "name": "python",
   "nbconvert_exporter": "python",
   "pygments_lexer": "ipython3",
   "version": "3.6.5"
  }
 },
 "nbformat": 4,
 "nbformat_minor": 2
}
