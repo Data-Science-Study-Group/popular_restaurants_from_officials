{
  "nbformat": 4,
  "nbformat_minor": 0,
  "metadata": {
    "colab": {
      "name": "서울시업무추진비데이터_2.ipynb",
      "version": "0.3.2",
      "views": {},
      "default_view": {},
      "provenance": [],
      "collapsed_sections": []
    },
    "kernelspec": {
      "name": "python3",
      "display_name": "Python 3"
    }
  },
  "cells": [
    {
      "metadata": {
        "id": "-xw0RaF1mNXV",
        "colab_type": "code",
        "colab": {
          "autoexec": {
            "startup": false,
            "wait_interval": 0
          }
        }
      },
      "cell_type": "code",
      "source": [
        "json_hierarchy = [\n",
        "        {\n",
        "            \"div\": \"감사위원회\",\n",
        "            \"child\": \"조사담당관/안전담당관/감사담당관\"\n",
        "        },\n",
        "        {\n",
        "            \"div\": \"경제진흥본부\",\n",
        "            \"child\": {\n",
        "                \"div\": \"창조경제기획관\",\n",
        "                \"child\": \"도시농업과/경제정책과/민생경제과/화융합경제과/디지털창업과/투자유치과/소상공인지원과\"\n",
        "            }\n",
        "        },\n",
        "        {\n",
        "            \"div\": \"관광체육국\",\n",
        "            \"child\": \"관광정책과/체육진흥과/체육정책과/관광사업과\"\n",
        "        },\n",
        "        {\n",
        "            \"div\": \"기술심사담당관\"\n",
        "        },\n",
        "        {\n",
        "            \"div\": \"기획조정실\",\n",
        "            \"child\": [\n",
        "                {\n",
        "                    \"div\": \"국제교류담당관\"\n",
        "                },\n",
        "                {\n",
        "                    \"div\": \"정책기획관\",\n",
        "                    \"child\": \"기획담당관/법률지원담당관/대외협력담당관/조직담당관/법무담당관/평가담당관\"\n",
        "                },\n",
        "                {\n",
        "                    \"div\": \"해외도시협력담당관\"\n",
        "                },\n",
        "                {\n",
        "                    \"div\": \"재정기획관\",\n",
        "                    \"child\": \"예산담당관/시민참여예산과/공기업담당관/재정관리담당관/시민참여예산담당관\"\n",
        "                }\n",
        "            ]\n",
        "        }\n",
        "    ]"
      ],
      "execution_count": 0,
      "outputs": []
    },
    {
      "metadata": {
        "id": "7dJ8P6o5n6OO",
        "colab_type": "code",
        "colab": {
          "autoexec": {
            "startup": false,
            "wait_interval": 0
          }
        }
      },
      "cell_type": "code",
      "source": [
        "base_url = \"https://opengov.seoul.go.kr/expense?dept%5B%5D=서울시본청&dept%5B%5D=\""
      ],
      "execution_count": 0,
      "outputs": []
    },
    {
      "metadata": {
        "id": "5BH8NLvY45Ll",
        "colab_type": "code",
        "colab": {
          "autoexec": {
            "startup": false,
            "wait_interval": 0
          },
          "base_uri": "https://localhost:8080/",
          "height": 876
        },
        "outputId": "99d4f597-38f2-4318-ce0c-99b3bcf44d13",
        "executionInfo": {
          "status": "ok",
          "timestamp": 1532597627572,
          "user_tz": -540,
          "elapsed": 739,
          "user": {
            "displayName": "jeeyun lee",
            "photoUrl": "https://lh3.googleusercontent.com/a/default-user=s128",
            "userId": "106132043570557958485"
          }
        }
      },
      "cell_type": "code",
      "source": [
        "# URL 추출\n",
        "urls = [];\n",
        "tail = '&dept%5B%5D='\n",
        "def extract_value(data, origin_url):\n",
        "  if (len(data)) > 2:\n",
        "    for single_div in data :\n",
        "      url = str(origin_url)\n",
        "      if isinstance(single_div, dict):\n",
        "        try:\n",
        "          if isinstance(single_div['child'], str):\n",
        "            #요기 최종\n",
        "            url += single_div['div']\n",
        "            url += tail\n",
        "            for div in single_div['child'].split('/'):\n",
        "              url_final = url + div\n",
        "              urls.append(url_final)\n",
        "#               print(url_final)\n",
        "              urls.append(url_final)\n",
        "          else:\n",
        "            url += single_div['div']\n",
        "            url += tail\n",
        "            extract_value(single_div['child'], url)\n",
        "        except KeyError:\n",
        "          url += single_div.get('div')\n",
        "          urls.append(url)\n",
        "#           print(url)\n",
        "\n",
        "      else:\n",
        "        print(\"no dict : \")\n",
        "  else:\n",
        "    url = str(origin_url)\n",
        "    child_list = data.get('child')\n",
        "    for child in child_list.split('/'):\n",
        "      url_final = url + data.get('div') + tail + child\n",
        "      urls.append(url_final)\n",
        "#       print(url_final)\n",
        "      \n",
        "extract_value(json_hierarchy, \"\")\n"
      ],
      "execution_count": 94,
      "outputs": [
        {
          "output_type": "execute_result",
          "data": {
            "text/plain": [
              "['감사위원회&dept%5B%5D=조사담당관',\n",
              " '감사위원회&dept%5B%5D=조사담당관',\n",
              " '감사위원회&dept%5B%5D=안전담당관',\n",
              " '감사위원회&dept%5B%5D=안전담당관',\n",
              " '감사위원회&dept%5B%5D=감사담당관',\n",
              " '감사위원회&dept%5B%5D=감사담당관',\n",
              " '경제진흥본부&dept%5B%5D=창조경제기획관&dept%5B%5D=도시농업과',\n",
              " '경제진흥본부&dept%5B%5D=창조경제기획관&dept%5B%5D=경제정책과',\n",
              " '경제진흥본부&dept%5B%5D=창조경제기획관&dept%5B%5D=민생경제과',\n",
              " '경제진흥본부&dept%5B%5D=창조경제기획관&dept%5B%5D=화융합경제과',\n",
              " '경제진흥본부&dept%5B%5D=창조경제기획관&dept%5B%5D=디지털창업과',\n",
              " '경제진흥본부&dept%5B%5D=창조경제기획관&dept%5B%5D=투자유치과',\n",
              " '경제진흥본부&dept%5B%5D=창조경제기획관&dept%5B%5D=소상공인지원과',\n",
              " '관광체육국&dept%5B%5D=관광정책과',\n",
              " '관광체육국&dept%5B%5D=관광정책과',\n",
              " '관광체육국&dept%5B%5D=체육진흥과',\n",
              " '관광체육국&dept%5B%5D=체육진흥과',\n",
              " '관광체육국&dept%5B%5D=체육정책과',\n",
              " '관광체육국&dept%5B%5D=체육정책과',\n",
              " '관광체육국&dept%5B%5D=관광사업과',\n",
              " '관광체육국&dept%5B%5D=관광사업과',\n",
              " '기술심사담당관',\n",
              " '기획조정실&dept%5B%5D=국제교류담당관',\n",
              " '기획조정실&dept%5B%5D=정책기획관&dept%5B%5D=기획담당관',\n",
              " '기획조정실&dept%5B%5D=정책기획관&dept%5B%5D=기획담당관',\n",
              " '기획조정실&dept%5B%5D=정책기획관&dept%5B%5D=법률지원담당관',\n",
              " '기획조정실&dept%5B%5D=정책기획관&dept%5B%5D=법률지원담당관',\n",
              " '기획조정실&dept%5B%5D=정책기획관&dept%5B%5D=대외협력담당관',\n",
              " '기획조정실&dept%5B%5D=정책기획관&dept%5B%5D=대외협력담당관',\n",
              " '기획조정실&dept%5B%5D=정책기획관&dept%5B%5D=조직담당관',\n",
              " '기획조정실&dept%5B%5D=정책기획관&dept%5B%5D=조직담당관',\n",
              " '기획조정실&dept%5B%5D=정책기획관&dept%5B%5D=법무담당관',\n",
              " '기획조정실&dept%5B%5D=정책기획관&dept%5B%5D=법무담당관',\n",
              " '기획조정실&dept%5B%5D=정책기획관&dept%5B%5D=평가담당관',\n",
              " '기획조정실&dept%5B%5D=정책기획관&dept%5B%5D=평가담당관',\n",
              " '기획조정실&dept%5B%5D=해외도시협력담당관',\n",
              " '기획조정실&dept%5B%5D=재정기획관&dept%5B%5D=예산담당관',\n",
              " '기획조정실&dept%5B%5D=재정기획관&dept%5B%5D=예산담당관',\n",
              " '기획조정실&dept%5B%5D=재정기획관&dept%5B%5D=시민참여예산과',\n",
              " '기획조정실&dept%5B%5D=재정기획관&dept%5B%5D=시민참여예산과',\n",
              " '기획조정실&dept%5B%5D=재정기획관&dept%5B%5D=공기업담당관',\n",
              " '기획조정실&dept%5B%5D=재정기획관&dept%5B%5D=공기업담당관',\n",
              " '기획조정실&dept%5B%5D=재정기획관&dept%5B%5D=재정관리담당관',\n",
              " '기획조정실&dept%5B%5D=재정기획관&dept%5B%5D=재정관리담당관',\n",
              " '기획조정실&dept%5B%5D=재정기획관&dept%5B%5D=시민참여예산담당관',\n",
              " '기획조정실&dept%5B%5D=재정기획관&dept%5B%5D=시민참여예산담당관']"
            ]
          },
          "metadata": {
            "tags": []
          },
          "execution_count": 94
        }
      ]
    },
    {
      "metadata": {
        "id": "74WUztBb8lEk",
        "colab_type": "code",
        "colab": {
          "autoexec": {
            "startup": false,
            "wait_interval": 0
          }
        }
      },
      "cell_type": "code",
      "source": [
        "# 추출된 URL 크롤링\n"
      ],
      "execution_count": 0,
      "outputs": []
    },
    {
      "metadata": {
        "id": "Fqc6yFMImN2I",
        "colab_type": "text"
      },
      "cell_type": "markdown",
      "source": [
        ""
      ]
    }
  ]
}