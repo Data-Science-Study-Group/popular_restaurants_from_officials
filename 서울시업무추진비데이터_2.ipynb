{
  "nbformat": 4,
  "nbformat_minor": 0,
  "metadata": {
    "colab": {
      "name": "서울시업무추진비데이터_2.ipynb",
      "version": "0.3.2",
      "views": {},
      "default_view": {},
      "provenance": [],
      "collapsed_sections": []
    },
    "kernelspec": {
      "name": "python3",
      "display_name": "Python 3"
    }
  },
  "cells": [
    {
      "metadata": {
        "id": "-xw0RaF1mNXV",
        "colab_type": "code",
        "colab": {
          "autoexec": {
            "startup": false,
            "wait_interval": 0
          }
        }
      },
      "cell_type": "code",
      "source": [
        "#-*-coding: utf-8\n",
        "json_hierarchy = [\n",
        "        {\n",
        "            \"div\": \"감사위원회\",\n",
        "            \"child\": \"조사담당관\"\n",
        "#             /안전담당관/감사담당관\"\n",
        "        },\n",
        "        {\n",
        "            \"div\": \"경제진흥본부\",\n",
        "            \"child\": {\n",
        "                \"div\": \"창조경제기획관\",\n",
        "                \"child\": \"도시농업과\"\n",
        "#                 /경제정책과/민생경제과\n",
        "#                 /화융합경제과/디지털창업과/투자유치과/소상공인지원과\"\n",
        "            }\n",
        "        },\n",
        "#         {\n",
        "#             \"div\": \"관광체육국\",\n",
        "#             \"child\": \"관광정책과/체육진흥과/체육정책과/관광사업과\"\n",
        "#         },\n",
        "        {\n",
        "            \"div\": \"기술심사담당관\"\n",
        "        },\n",
        "#         {\n",
        "#             \"div\": \"기획조정실\",\n",
        "#             \"child\": [\n",
        "#                 {\n",
        "#                     \"div\": \"국제교류담당관\"\n",
        "#                 },\n",
        "#                 {\n",
        "#                     \"div\": \"정책기획관\",\n",
        "#                     \"child\": \"기획담당관/법률지원담당관/대외협력담당관/조직담당관/법무담당관/평가담당관\"\n",
        "#                 },\n",
        "#                 {\n",
        "#                     \"div\": \"해외도시협력담당관\"\n",
        "#                 },\n",
        "#                 {\n",
        "#                     \"div\": \"재정기획관\",\n",
        "#                     \"child\": \"예산담당관/시민참여예산과/공기업담당관/재정관리담당관/시민참여예산담당관\"\n",
        "#                 }\n",
        "#             ]\n",
        "#         }\n",
        "    ]"
      ],
      "execution_count": 0,
      "outputs": []
    },
    {
      "metadata": {
        "id": "5BH8NLvY45Ll",
        "colab_type": "code",
        "colab": {
          "autoexec": {
            "startup": false,
            "wait_interval": 0
          },
          "base_uri": "https://localhost:8080/",
          "height": 112
        },
        "outputId": "630422a5-7695-4285-9328-0adf3edc3dbc",
        "executionInfo": {
          "status": "ok",
          "timestamp": 1532793466112,
          "user_tz": -540,
          "elapsed": 633,
          "user": {
            "displayName": "jeeyun lee",
            "photoUrl": "https://lh3.googleusercontent.com/a/default-user=s128",
            "userId": "106132043570557958485"
          }
        }
      },
      "cell_type": "code",
      "source": [
        "from urllib import parse\n",
        "\n",
        "# URL 추출\n",
        "urls = [];\n",
        "tail = '&dept%5B%5D='\n",
        "def extract_value(data, origin_url):\n",
        "  if (len(data)) > 2:\n",
        "    for single_div in data :\n",
        "      url = str(origin_url)\n",
        "      if isinstance(single_div, dict):\n",
        "        try:\n",
        "          if isinstance(single_div['child'], str):\n",
        "            #요기 최종\n",
        "            ## pares 안해주면 한글 url이 깨진다요\n",
        "            url += parse.quote(single_div['div'])\n",
        "            url += tail\n",
        "            for div in single_div['child'].split('/'):\n",
        "              url_final = url + parse.quote(div)\n",
        "              urls.append(url_final)\n",
        "#               print(url_final)\n",
        "              urls.append(url_final)\n",
        "          else:\n",
        "            url += parse.quote(single_div['div'])\n",
        "            url += tail\n",
        "            extract_value(single_div['child'], url)\n",
        "        except KeyError:\n",
        "#           url += parse.quote(single_div.get('div'))\n",
        "#           urls.append(url)\n",
        "          print('keyerr')\n",
        "      else:\n",
        "        print(\"no dict : \")\n",
        "  else:\n",
        "    url = str(origin_url)\n",
        "    child_list = data.get('child')\n",
        "    for child in child_list.split('/'):\n",
        "      url_final = url + parse.quote(data.get('div')) + tail + parse.quote(child)\n",
        "      urls.append(url_final)\n",
        "#       print(url_final)\n",
        "      \n",
        "extract_value(json_hierarchy, \"\")\n",
        "urls[:5]"
      ],
      "execution_count": 5,
      "outputs": [
        {
          "output_type": "stream",
          "text": [
            "keyerr\n"
          ],
          "name": "stdout"
        },
        {
          "output_type": "execute_result",
          "data": {
            "text/plain": [
              "['%EA%B0%90%EC%82%AC%EC%9C%84%EC%9B%90%ED%9A%8C&dept%5B%5D=%EC%A1%B0%EC%82%AC%EB%8B%B4%EB%8B%B9%EA%B4%80',\n",
              " '%EA%B0%90%EC%82%AC%EC%9C%84%EC%9B%90%ED%9A%8C&dept%5B%5D=%EC%A1%B0%EC%82%AC%EB%8B%B4%EB%8B%B9%EA%B4%80',\n",
              " '%EA%B2%BD%EC%A0%9C%EC%A7%84%ED%9D%A5%EB%B3%B8%EB%B6%80&dept%5B%5D=%EC%B0%BD%EC%A1%B0%EA%B2%BD%EC%A0%9C%EA%B8%B0%ED%9A%8D%EA%B4%80&dept%5B%5D=%EB%8F%84%EC%8B%9C%EB%86%8D%EC%97%85%EA%B3%BC']"
            ]
          },
          "metadata": {
            "tags": []
          },
          "execution_count": 5
        }
      ]
    },
    {
      "metadata": {
        "id": "HQjc8aK77k53",
        "colab_type": "text"
      },
      "cell_type": "markdown",
      "source": [
        ""
      ]
    },
    {
      "metadata": {
        "id": "74WUztBb8lEk",
        "colab_type": "code",
        "colab": {
          "autoexec": {
            "startup": false,
            "wait_interval": 0
          },
          "base_uri": "https://localhost:8080/",
          "height": 92
        },
        "outputId": "2332cfc2-6895-49ab-e2db-42cb08164f73",
        "executionInfo": {
          "status": "ok",
          "timestamp": 1532793476469,
          "user_tz": -540,
          "elapsed": 5042,
          "user": {
            "displayName": "jeeyun lee",
            "photoUrl": "https://lh3.googleusercontent.com/a/default-user=s128",
            "userId": "106132043570557958485"
          }
        }
      },
      "cell_type": "code",
      "source": [
        "# 필요한 라이브러리 가져오기\n",
        "from urllib import request\n",
        "!pip install html5lib\n",
        "import html5lib\n",
        "!pip install lxml\n",
        "import pandas as pd\n",
        "import numpy as np"
      ],
      "execution_count": 6,
      "outputs": [
        {
          "output_type": "stream",
          "text": [
            "Requirement already satisfied: html5lib in /usr/local/lib/python3.6/dist-packages (1.0.1)\r\n",
            "Requirement already satisfied: webencodings in /usr/local/lib/python3.6/dist-packages (from html5lib) (0.5.1)\r\n",
            "Requirement already satisfied: six>=1.9 in /usr/local/lib/python3.6/dist-packages (from html5lib) (1.11.0)\n",
            "Requirement already satisfied: lxml in /usr/local/lib/python3.6/dist-packages (4.2.3)\n"
          ],
          "name": "stdout"
        }
      ]
    },
    {
      "metadata": {
        "id": "CndgYllbHfMV",
        "colab_type": "code",
        "colab": {
          "autoexec": {
            "startup": false,
            "wait_interval": 0
          },
          "base_uri": "https://localhost:8080/",
          "height": 56
        },
        "outputId": "4b506b52-304f-4b71-dc0c-56276a5066c1",
        "executionInfo": {
          "status": "ok",
          "timestamp": 1532793501980,
          "user_tz": -540,
          "elapsed": 24261,
          "user": {
            "displayName": "jeeyun lee",
            "photoUrl": "https://lh3.googleusercontent.com/a/default-user=s128",
            "userId": "106132043570557958485"
          }
        }
      },
      "cell_type": "code",
      "source": [
        "# 2017년 1년치 데이터 크롤링\n",
        "df = pd.DataFrame()\n",
        "base_url_head = \"https://opengov.seoul.go.kr/expense?dept%5B%5D=%EC%84%9C%EC%9A%B8%EC%8B%9C%EB%B3%B8%EC%B2%AD&dept%5B%5D=\"\n",
        "base_url_tail = \"&year=2017&month=\"\n",
        "\n",
        "# url돌면서 url 만들기\n",
        "for div in urls:\n",
        "  div_url = (base_url_head + div + base_url_tail)\n",
        "    \n",
        "  for month in range(1,4): \n",
        "    url_month = div_url + str(month)\n",
        "    try:\n",
        "      df_month = pd.read_html(url_month)[1]\n",
        "      df = df.append(df_month)\n",
        "    except IndexError:\n",
        "      print('err', url_month)\n",
        "\n",
        "\n",
        "#   mayor_12months = mayor_12months.append(df)\n",
        "\n",
        "#   ## 1 category 칼럼 넣기\n",
        "#   ## 년/ 월 / 일 / 시간 분리하기\n",
        "#   ## 레스토랑명 / 지역 분리하기"
      ],
      "execution_count": 7,
      "outputs": [
        {
          "output_type": "stream",
          "text": [
            "err https://opengov.seoul.go.kr/expense?dept%5B%5D=%EC%84%9C%EC%9A%B8%EC%8B%9C%EB%B3%B8%EC%B2%AD&dept%5B%5D=%EA%B2%BD%EC%A0%9C%EC%A7%84%ED%9D%A5%EB%B3%B8%EB%B6%80&dept%5B%5D=%EC%B0%BD%EC%A1%B0%EA%B2%BD%EC%A0%9C%EA%B8%B0%ED%9A%8D%EA%B4%80&dept%5B%5D=%EB%8F%84%EC%8B%9C%EB%86%8D%EC%97%85%EA%B3%BC&year=2017&month=3\n"
          ],
          "name": "stdout"
        }
      ]
    },
    {
      "metadata": {
        "id": "Fqc6yFMImN2I",
        "colab_type": "text"
      },
      "cell_type": "markdown",
      "source": [
        "데이터가 없는 항목도 많다. 크롤링 하는데 엄청 오래걸리네... 엑셀에 넣어둬야겠당"
      ]
    },
    {
      "metadata": {
        "id": "PIbRyP7Dndgi",
        "colab_type": "code",
        "colab": {
          "autoexec": {
            "startup": false,
            "wait_interval": 0
          }
        }
      },
      "cell_type": "code",
      "source": [
        "# url 첫 부분을 decoding해서 'category에 넣어주기'"
      ],
      "execution_count": 0,
      "outputs": []
    },
    {
      "metadata": {
        "id": "sY1eFruUTjYB",
        "colab_type": "code",
        "colab": {
          "autoexec": {
            "startup": false,
            "wait_interval": 0
          },
          "base_uri": "https://localhost:8080/",
          "height": 294
        },
        "outputId": "4a33bda4-f7fe-40c6-e3d0-b45e0202ff63",
        "executionInfo": {
          "status": "ok",
          "timestamp": 1532793506959,
          "user_tz": -540,
          "elapsed": 628,
          "user": {
            "displayName": "jeeyun lee",
            "photoUrl": "https://lh3.googleusercontent.com/a/default-user=s128",
            "userId": "106132043570557958485"
          }
        }
      },
      "cell_type": "code",
      "source": [
        "df.describe()"
      ],
      "execution_count": 8,
      "outputs": [
        {
          "output_type": "execute_result",
          "data": {
            "text/html": [
              "<div>\n",
              "<style scoped>\n",
              "    .dataframe tbody tr th:only-of-type {\n",
              "        vertical-align: middle;\n",
              "    }\n",
              "\n",
              "    .dataframe tbody tr th {\n",
              "        vertical-align: top;\n",
              "    }\n",
              "\n",
              "    .dataframe thead th {\n",
              "        text-align: right;\n",
              "    }\n",
              "</style>\n",
              "<table border=\"1\" class=\"dataframe\">\n",
              "  <thead>\n",
              "    <tr style=\"text-align: right;\">\n",
              "      <th></th>\n",
              "      <th>연번</th>\n",
              "      <th>집행금액</th>\n",
              "    </tr>\n",
              "  </thead>\n",
              "  <tbody>\n",
              "    <tr>\n",
              "      <th>count</th>\n",
              "      <td>150.000000</td>\n",
              "      <td>150.000000</td>\n",
              "    </tr>\n",
              "    <tr>\n",
              "      <th>mean</th>\n",
              "      <td>11.580000</td>\n",
              "      <td>137937.200000</td>\n",
              "    </tr>\n",
              "    <tr>\n",
              "      <th>std</th>\n",
              "      <td>7.267903</td>\n",
              "      <td>125367.285501</td>\n",
              "    </tr>\n",
              "    <tr>\n",
              "      <th>min</th>\n",
              "      <td>1.000000</td>\n",
              "      <td>8100.000000</td>\n",
              "    </tr>\n",
              "    <tr>\n",
              "      <th>25%</th>\n",
              "      <td>5.000000</td>\n",
              "      <td>47850.000000</td>\n",
              "    </tr>\n",
              "    <tr>\n",
              "      <th>50%</th>\n",
              "      <td>11.000000</td>\n",
              "      <td>96000.000000</td>\n",
              "    </tr>\n",
              "    <tr>\n",
              "      <th>75%</th>\n",
              "      <td>17.000000</td>\n",
              "      <td>184525.000000</td>\n",
              "    </tr>\n",
              "    <tr>\n",
              "      <th>max</th>\n",
              "      <td>28.000000</td>\n",
              "      <td>490000.000000</td>\n",
              "    </tr>\n",
              "  </tbody>\n",
              "</table>\n",
              "</div>"
            ],
            "text/plain": [
              "               연번           집행금액\n",
              "count  150.000000     150.000000\n",
              "mean    11.580000  137937.200000\n",
              "std      7.267903  125367.285501\n",
              "min      1.000000    8100.000000\n",
              "25%      5.000000   47850.000000\n",
              "50%     11.000000   96000.000000\n",
              "75%     17.000000  184525.000000\n",
              "max     28.000000  490000.000000"
            ]
          },
          "metadata": {
            "tags": []
          },
          "execution_count": 8
        }
      ]
    },
    {
      "metadata": {
        "id": "Qaf9JukuTmsm",
        "colab_type": "code",
        "colab": {
          "autoexec": {
            "startup": false,
            "wait_interval": 0
          },
          "base_uri": "https://localhost:8080/",
          "height": 260
        },
        "outputId": "3d2c8aaf-afbc-4a05-9872-4cd80be4e624",
        "executionInfo": {
          "status": "ok",
          "timestamp": 1532793512704,
          "user_tz": -540,
          "elapsed": 1342,
          "user": {
            "displayName": "jeeyun lee",
            "photoUrl": "https://lh3.googleusercontent.com/a/default-user=s128",
            "userId": "106132043570557958485"
          }
        }
      },
      "cell_type": "code",
      "source": [
        "df.info()"
      ],
      "execution_count": 9,
      "outputs": [
        {
          "output_type": "stream",
          "text": [
            "<class 'pandas.core.frame.DataFrame'>\n",
            "Int64Index: 150 entries, 0 to 6\n",
            "Data columns (total 8 columns):\n",
            "연번      150 non-null int64\n",
            "부서명     150 non-null object\n",
            "집행일시    150 non-null object\n",
            "집행장소    150 non-null object\n",
            "집행목적    150 non-null object\n",
            "대상인원    150 non-null object\n",
            "결제방법    150 non-null object\n",
            "집행금액    150 non-null int64\n",
            "dtypes: int64(2), object(6)\n",
            "memory usage: 10.5+ KB\n"
          ],
          "name": "stdout"
        }
      ]
    },
    {
      "metadata": {
        "id": "7GoQxWEdTtZ-",
        "colab_type": "code",
        "colab": {
          "autoexec": {
            "startup": false,
            "wait_interval": 0
          },
          "base_uri": "https://localhost:8080/",
          "height": 36
        },
        "outputId": "339b8d89-68a2-418e-e42e-738a093ab7ad",
        "executionInfo": {
          "status": "ok",
          "timestamp": 1532793527989,
          "user_tz": -540,
          "elapsed": 632,
          "user": {
            "displayName": "jeeyun lee",
            "photoUrl": "https://lh3.googleusercontent.com/a/default-user=s128",
            "userId": "106132043570557958485"
          }
        }
      },
      "cell_type": "code",
      "source": [
        "df.shape"
      ],
      "execution_count": 11,
      "outputs": [
        {
          "output_type": "execute_result",
          "data": {
            "text/plain": [
              "(150, 8)"
            ]
          },
          "metadata": {
            "tags": []
          },
          "execution_count": 11
        }
      ]
    },
    {
      "metadata": {
        "id": "cfm1B59sfvQg",
        "colab_type": "code",
        "colab": {
          "autoexec": {
            "startup": false,
            "wait_interval": 0
          },
          "base_uri": "https://localhost:8080/",
          "height": 210
        },
        "outputId": "d79854a8-0267-4e89-d136-9cd8c4c25296",
        "executionInfo": {
          "status": "ok",
          "timestamp": 1532793564644,
          "user_tz": -540,
          "elapsed": 943,
          "user": {
            "displayName": "jeeyun lee",
            "photoUrl": "https://lh3.googleusercontent.com/a/default-user=s128",
            "userId": "106132043570557958485"
          }
        }
      },
      "cell_type": "code",
      "source": [
        "df.head(3)"
      ],
      "execution_count": 14,
      "outputs": [
        {
          "output_type": "execute_result",
          "data": {
            "text/html": [
              "<div>\n",
              "<style scoped>\n",
              "    .dataframe tbody tr th:only-of-type {\n",
              "        vertical-align: middle;\n",
              "    }\n",
              "\n",
              "    .dataframe tbody tr th {\n",
              "        vertical-align: top;\n",
              "    }\n",
              "\n",
              "    .dataframe thead th {\n",
              "        text-align: right;\n",
              "    }\n",
              "</style>\n",
              "<table border=\"1\" class=\"dataframe\">\n",
              "  <thead>\n",
              "    <tr style=\"text-align: right;\">\n",
              "      <th></th>\n",
              "      <th>연번</th>\n",
              "      <th>부서명</th>\n",
              "      <th>집행일시</th>\n",
              "      <th>집행장소</th>\n",
              "      <th>집행목적</th>\n",
              "      <th>대상인원</th>\n",
              "      <th>결제방법</th>\n",
              "      <th>집행금액</th>\n",
              "    </tr>\n",
              "  </thead>\n",
              "  <tbody>\n",
              "    <tr>\n",
              "      <th>0</th>\n",
              "      <td>1</td>\n",
              "      <td>조사담당관</td>\n",
              "      <td>2017-01-20 13:15</td>\n",
              "      <td>청송옥(중구 서소문로) 외 14건</td>\n",
              "      <td>기강감찰 행정소요경비 지급</td>\n",
              "      <td>김정영조사관외 8명</td>\n",
              "      <td>카드</td>\n",
              "      <td>405500</td>\n",
              "    </tr>\n",
              "    <tr>\n",
              "      <th>1</th>\n",
              "      <td>2</td>\n",
              "      <td>조사담당관</td>\n",
              "      <td>2017-01-20 13:15</td>\n",
              "      <td>다락(중구 덕수궁길) 외 15건</td>\n",
              "      <td>기강감찰 행정소요경비 지급</td>\n",
              "      <td>김정영조사관외 8명</td>\n",
              "      <td>카드</td>\n",
              "      <td>475900</td>\n",
              "    </tr>\n",
              "    <tr>\n",
              "      <th>2</th>\n",
              "      <td>3</td>\n",
              "      <td>조사담당관</td>\n",
              "      <td>2017-01-02 19:56</td>\n",
              "      <td>북창터 (중구 세종대로)</td>\n",
              "      <td>2016년 공직자 이해충돌심사 결과보고 검토회</td>\n",
              "      <td>조사담당관 외 5명</td>\n",
              "      <td>카드</td>\n",
              "      <td>130000</td>\n",
              "    </tr>\n",
              "  </tbody>\n",
              "</table>\n",
              "</div>"
            ],
            "text/plain": [
              "   연번    부서명              집행일시                집행장소                       집행목적  \\\n",
              "0   1  조사담당관  2017-01-20 13:15  청송옥(중구 서소문로) 외 14건             기강감찰 행정소요경비 지급   \n",
              "1   2  조사담당관  2017-01-20 13:15   다락(중구 덕수궁길) 외 15건             기강감찰 행정소요경비 지급   \n",
              "2   3  조사담당관  2017-01-02 19:56       북창터 (중구 세종대로)  2016년 공직자 이해충돌심사 결과보고 검토회   \n",
              "\n",
              "         대상인원 결제방법    집행금액  \n",
              "0  김정영조사관외 8명   카드  405500  \n",
              "1  김정영조사관외 8명   카드  475900  \n",
              "2  조사담당관 외 5명   카드  130000  "
            ]
          },
          "metadata": {
            "tags": []
          },
          "execution_count": 14
        }
      ]
    },
    {
      "metadata": {
        "id": "7B81RzEDfyXz",
        "colab_type": "code",
        "colab": {
          "autoexec": {
            "startup": false,
            "wait_interval": 0
          },
          "base_uri": "https://localhost:8080/",
          "height": 210
        },
        "outputId": "2184e934-bd6f-4f19-ba03-f880c4571d49",
        "executionInfo": {
          "status": "ok",
          "timestamp": 1532793565977,
          "user_tz": -540,
          "elapsed": 567,
          "user": {
            "displayName": "jeeyun lee",
            "photoUrl": "https://lh3.googleusercontent.com/a/default-user=s128",
            "userId": "106132043570557958485"
          }
        }
      },
      "cell_type": "code",
      "source": [
        "df.tail(3)"
      ],
      "execution_count": 15,
      "outputs": [
        {
          "output_type": "execute_result",
          "data": {
            "text/html": [
              "<div>\n",
              "<style scoped>\n",
              "    .dataframe tbody tr th:only-of-type {\n",
              "        vertical-align: middle;\n",
              "    }\n",
              "\n",
              "    .dataframe tbody tr th {\n",
              "        vertical-align: top;\n",
              "    }\n",
              "\n",
              "    .dataframe thead th {\n",
              "        text-align: right;\n",
              "    }\n",
              "</style>\n",
              "<table border=\"1\" class=\"dataframe\">\n",
              "  <thead>\n",
              "    <tr style=\"text-align: right;\">\n",
              "      <th></th>\n",
              "      <th>연번</th>\n",
              "      <th>부서명</th>\n",
              "      <th>집행일시</th>\n",
              "      <th>집행장소</th>\n",
              "      <th>집행목적</th>\n",
              "      <th>대상인원</th>\n",
              "      <th>결제방법</th>\n",
              "      <th>집행금액</th>\n",
              "    </tr>\n",
              "  </thead>\n",
              "  <tbody>\n",
              "    <tr>\n",
              "      <th>4</th>\n",
              "      <td>5</td>\n",
              "      <td>경제진흥본부 도시농업과</td>\n",
              "      <td>2017-02-13 12:30</td>\n",
              "      <td>바닷가작은부엌 (중구 덕수궁길 17)</td>\n",
              "      <td>양곡도매시장 이전, 신축을 위한 업무간담회</td>\n",
              "      <td>도시농업과장 및 도시농업정책팀장 등 3명</td>\n",
              "      <td>카드</td>\n",
              "      <td>48000</td>\n",
              "    </tr>\n",
              "    <tr>\n",
              "      <th>5</th>\n",
              "      <td>6</td>\n",
              "      <td>경제진흥본부 도시농업과</td>\n",
              "      <td>2017-02-23 13:02</td>\n",
              "      <td>우도일식 (중구 태평로1가 지하1층)</td>\n",
              "      <td>도시농업 민간단체 공모사업추진간담회</td>\n",
              "      <td>도시농업과장, 도시농업지원팀장 등 4명</td>\n",
              "      <td>카드</td>\n",
              "      <td>60000</td>\n",
              "    </tr>\n",
              "    <tr>\n",
              "      <th>6</th>\n",
              "      <td>7</td>\n",
              "      <td>경제진흥본부 도시농업과</td>\n",
              "      <td>2017-02-28 16:47</td>\n",
              "      <td>장군보쌈 (중구 무교로 19)</td>\n",
              "      <td>직원 인사이동에 따른 직원격려 간담회</td>\n",
              "      <td>도시농업과장 및 도시농업과직원 27명</td>\n",
              "      <td>카드</td>\n",
              "      <td>470000</td>\n",
              "    </tr>\n",
              "  </tbody>\n",
              "</table>\n",
              "</div>"
            ],
            "text/plain": [
              "   연번           부서명              집행일시                  집행장소  \\\n",
              "4   5  경제진흥본부 도시농업과  2017-02-13 12:30  바닷가작은부엌 (중구 덕수궁길 17)   \n",
              "5   6  경제진흥본부 도시농업과  2017-02-23 13:02  우도일식 (중구 태평로1가 지하1층)   \n",
              "6   7  경제진흥본부 도시농업과  2017-02-28 16:47      장군보쌈 (중구 무교로 19)   \n",
              "\n",
              "                      집행목적                    대상인원 결제방법    집행금액  \n",
              "4  양곡도매시장 이전, 신축을 위한 업무간담회  도시농업과장 및 도시농업정책팀장 등 3명   카드   48000  \n",
              "5      도시농업 민간단체 공모사업추진간담회   도시농업과장, 도시농업지원팀장 등 4명   카드   60000  \n",
              "6     직원 인사이동에 따른 직원격려 간담회    도시농업과장 및 도시농업과직원 27명   카드  470000  "
            ]
          },
          "metadata": {
            "tags": []
          },
          "execution_count": 15
        }
      ]
    },
    {
      "metadata": {
        "id": "riEGxULcnUZ6",
        "colab_type": "code",
        "colab": {
          "autoexec": {
            "startup": false,
            "wait_interval": 0
          }
        }
      },
      "cell_type": "code",
      "source": [
        ""
      ],
      "execution_count": 0,
      "outputs": []
    }
  ]
}