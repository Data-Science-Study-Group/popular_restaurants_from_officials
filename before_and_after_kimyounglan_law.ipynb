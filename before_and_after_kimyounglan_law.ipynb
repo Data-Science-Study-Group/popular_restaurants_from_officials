{
 "cells": [
  {
   "cell_type": "code",
   "execution_count": 1,
   "metadata": {},
   "outputs": [],
   "source": [
    "import pandas as pd\n",
    "import numpy as np"
   ]
  },
  {
   "cell_type": "code",
   "execution_count": 2,
   "metadata": {},
   "outputs": [],
   "source": [
    "df = pd.read_csv('raw.csv')"
   ]
  },
  {
   "cell_type": "code",
   "execution_count": 3,
   "metadata": {},
   "outputs": [
    {
     "name": "stdout",
     "output_type": "stream",
     "text": [
      "<class 'pandas.core.frame.DataFrame'>\n",
      "RangeIndex: 55183 entries, 0 to 55182\n",
      "Data columns (total 10 columns):\n",
      "1소속부서    55183 non-null object\n",
      "결제방법     54992 non-null object\n",
      "구분       1479 non-null object\n",
      "대상인원     55161 non-null object\n",
      "부서명      55167 non-null object\n",
      "연번       55183 non-null object\n",
      "집행금액     55168 non-null float64\n",
      "집행목적     55153 non-null object\n",
      "집행일시     55168 non-null object\n",
      "집행장소     55134 non-null object\n",
      "dtypes: float64(1), object(9)\n",
      "memory usage: 4.2+ MB\n"
     ]
    }
   ],
   "source": [
    "df.info()"
   ]
  },
  {
   "cell_type": "code",
   "execution_count": 5,
   "metadata": {},
   "outputs": [],
   "source": [
    "# 날짜가 없는 row 없애기\n",
    "df = df.dropna(subset=['집행일시'])"
   ]
  },
  {
   "cell_type": "code",
   "execution_count": 6,
   "metadata": {},
   "outputs": [
    {
     "name": "stdout",
     "output_type": "stream",
     "text": [
      "<class 'pandas.core.frame.DataFrame'>\n",
      "Int64Index: 55168 entries, 0 to 55182\n",
      "Data columns (total 10 columns):\n",
      "1소속부서    55168 non-null object\n",
      "결제방법     54992 non-null object\n",
      "구분       1479 non-null object\n",
      "대상인원     55161 non-null object\n",
      "부서명      55167 non-null object\n",
      "연번       55168 non-null object\n",
      "집행금액     55168 non-null float64\n",
      "집행목적     55153 non-null object\n",
      "집행일시     55168 non-null object\n",
      "집행장소     55134 non-null object\n",
      "dtypes: float64(1), object(9)\n",
      "memory usage: 4.6+ MB\n"
     ]
    }
   ],
   "source": [
    "df.info()"
   ]
  },
  {
   "cell_type": "code",
   "execution_count": null,
   "metadata": {},
   "outputs": [],
   "source": [
    "# date 형식으로 만들어주기\n",
    "from datetime import date\n",
    "\n",
    "for data in df['집행일시']:\n",
    "    year = "
   ]
  }
 ],
 "metadata": {
  "kernelspec": {
   "display_name": "Python 3",
   "language": "python",
   "name": "python3"
  },
  "language_info": {
   "codemirror_mode": {
    "name": "ipython",
    "version": 3
   },
   "file_extension": ".py",
   "mimetype": "text/x-python",
   "name": "python",
   "nbconvert_exporter": "python",
   "pygments_lexer": "ipython3",
   "version": "3.6.5"
  }
 },
 "nbformat": 4,
 "nbformat_minor": 2
}
