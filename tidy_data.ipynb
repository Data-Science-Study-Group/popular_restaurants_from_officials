{
  "nbformat": 4,
  "nbformat_minor": 0,
  "metadata": {
    "colab": {
      "name": "서울시업무추진비데이터.ipynb_지영",
      "version": "0.3.2",
      "views": {},
      "default_view": {},
      "provenance": [
        {
          "file_id": "1HbPM6PCIPLYWQGwLwGb-v9IKTbtEJh6X",
          "timestamp": 1532505132566
        }
      ],
      "collapsed_sections": []
    },
    "kernelspec": {
      "name": "python3",
      "display_name": "Python 3"
    }
  },
  "cells": [
    {
      "metadata": {
        "id": "aTswgqvzbezC",
        "colab_type": "text"
      },
      "cell_type": "markdown",
      "source": [
        "# 시작하기 전에\n",
        "\n",
        "[부서별 집행 현황 데이터 바로가기](https://opengov.seoul.go.kr/expense?dept%5B%5D=%EC%84%9C%EC%9A%B8%EC%8B%9C%EB%B3%B8%EC%B2%AD&dept%5B%5D=%EC%A0%95%EB%AC%B4%EB%B6%80%EC%8B%9C%EC%9E%A5&year=2017&month=3)\n",
        "\n",
        "분류 | 내용\n",
        "-|-\n",
        "분석 목적 | 공무원 법카 사용 이력 분석을 통해 공무원이 자주 가는검증된 맛집을 알아내자 \n",
        "대상 | 1) 2017년 1년간 사용된 법인 카드 이력 중 <br> 2) 고위 공무원들이 주로 가는 <br> 3) 식당 (카페 불포함)\n",
        "지도 이용 타겟 | 30~40대 경제력이 있고 접대 미팅등에 맞는 적당히 고급지고 퀄리티있는 맛집을 알고 싶어 하는 직장인\n",
        "\n",
        "\n",
        "서울 시청의 고위 공무원을 파악하기 위해 [서울시 조직도](http://namesearch-app.seoul.go.kr/main/images/contents/org_main.gif)를 참고해보자.\n",
        "\n",
        "![서울시 조직도](http://namesearch-app.seoul.go.kr/main/images/contents/org_main.gif)\n",
        "\n",
        "서울특별시장 > 대변인 ~ 시민감사옴부즈만위원회 (시장과 함께 간 곳) > 행정부시장 / 정무부시장 > 여성가족정책실~기술심사담당관 (부시장과 함께 간 곳) > 기획조정실~소방재난본부 순으로 살펴보면 좋겠다.\n",
        "\n",
        "\n",
        "**[세부 to do]**\n",
        "- tidy 할수 있는 기준을 전달함.\n",
        "- 대변인은 시장이 아니더라도 언론담당관이랑 같이 간 것까지 포함 한다 등\n",
        "- 레이블, 어떤 데이터를 포함하고 뺄 것인지 기준을 정하고 각 데이터 카테고리마다 정리해서 토요일까지 지윤님께 공유\n",
        "\n",
        "**[앞으로 일정]**\n",
        "- tidy 기준 지윤님께 토요일까지 공유\n",
        "- 크롤링한 걸 지윤님이 주말(토)중으로 넘겨주심 > tidy \n",
        "- 월까지 tidy 작업이 완료된 상태로 미팅하는 것\n",
        "- 집행일시 년/월/일로 나눔\n",
        "- 수요일 3시까지 이수역\n",
        "\n",
        "- 지금까지 나온 5개 식당 중에 가고 싶은 식당을 뽑아라 > 연령대별 설문조사 > \n"
      ]
    },
    {
      "metadata": {
        "id": "Abx6wSbI4FR1",
        "colab_type": "code",
        "colab": {
          "autoexec": {
            "startup": false,
            "wait_interval": 0
          }
        }
      },
      "cell_type": "code",
      "source": [
        ""
      ],
      "execution_count": 0,
      "outputs": []
    },
    {
      "metadata": {
        "id": "Z5CBWT6n4HDd",
        "colab_type": "text"
      },
      "cell_type": "markdown",
      "source": [
        "# Tidy data\n",
        "\n",
        "**[기준]**\n",
        "\n",
        "\n",
        "부서 | 1 분류 | 2분류|기준|이유\n",
        "-|-\n",
        "공통|||1) '도시락', '피자', '구내식당','매점','카페','커피' 키워드 제외 <br>2)  프랜차이즈 키워드 제외<br>3) 종로구 이외지역 제외 <br> 4) 집행목적 - '구매', '구입', '지급'가 들어간 데이터 제외 5) '격려'가 들어가고 앞에 '간담회' 키워드가 없는 경우 제외  | 맛집 기준 미충족\n",
        "서울시 본청 | 서울특별시장||1) 대상인원 - '시장'이 포함된 데이터 <br> 2) 구분 - '현업-우수부서 격려 등'은 삭제한다. <br> 단, 대상인원에 '시장'이 있을 경우 포함. | 맛집 기준 미충족\n",
        "|행정 1 부시장|| 1) 대상인원 - 행정2부시장이 포함된 데이터 <br> 2) 값 중 '-'가 들어갈 경우 제외|\n",
        "|행정 2 부시장|| 2) 대상인원 - '행정1부시장'이 포함된 데이터|\n",
        "|정무부시장|| 1) 대상인원 - 전부 |\n",
        "|대변인|언론담당관| 1) 대상인원 - 전부 |\n",
        "|서울혁신기획관|갈등조정담당관~<br>청년정책담당관|\n",
        "|감사위원회|\n",
        "\n",
        "프랜차이즈 : 빚은, 피자에땅, 파리바게트, 옵스, 본도시락, 놀부보쌈, 폴바셋, 투썸플레이스, 탐앤탐스, 엔제리너스, 스타벅스, 커피빈, 미스터피자, \n",
        "\n",
        "* 추츨시 주의해야할 문제\n",
        "- 행정2부시장비서관 등 '행정2부시장'이 포함되었지만 실제 원하는 데이터가 아닌 경우 있으니 주의할 것.\n",
        "\n",
        "* 논의해봐야할 문제\n",
        "- 킴스패스(파스텔드나다)처럼 상호명과 카드내역(회사명)이 다른 경우가 있음. 어떻게 처리할 것인가?\n",
        "- "
      ]
    },
    {
      "metadata": {
        "id": "1mp0vSxp4Fe9",
        "colab_type": "code",
        "colab": {
          "autoexec": {
            "startup": false,
            "wait_interval": 0
          }
        }
      },
      "cell_type": "code",
      "source": [
        ""
      ],
      "execution_count": 0,
      "outputs": []
    },
    {
      "metadata": {
        "id": "GbciznYZdZLU",
        "colab_type": "text"
      },
      "cell_type": "markdown",
      "source": [
        "지윤님이 서울 시장~ 행정부시장까지는 [여기](https://colab.research.google.com/drive/1HbPM6PCIPLYWQGwLwGb-v9IKTbtEJh6X#scrollTo=eyZR5nfWtlrd)서 해주셨음. \n",
        "\n",
        "서울 시장 직속 부서에서 시장과 함께 간 곳을 먼저 살펴봅시다!\n",
        "\n"
      ]
    },
    {
      "metadata": {
        "id": "UQrkz6TZfOLm",
        "colab_type": "text"
      },
      "cell_type": "markdown",
      "source": [
        "# 대변인"
      ]
    },
    {
      "metadata": {
        "id": "-aJ9rOO0beUn",
        "colab_type": "code",
        "colab": {
          "autoexec": {
            "startup": false,
            "wait_interval": 0
          },
          "base_uri": "https://localhost:8080/",
          "height": 103
        },
        "outputId": "d0020569-7e63-4d17-9c36-000c9d18d60c",
        "executionInfo": {
          "status": "ok",
          "timestamp": 1532506352842,
          "user_tz": -540,
          "elapsed": 4731,
          "user": {
            "displayName": "최지영",
            "photoUrl": "https://lh3.googleusercontent.com/a/default-user=s128",
            "userId": "106128527749636650173"
          }
        }
      },
      "cell_type": "code",
      "source": [
        "# 먼저 필요한 라이브러리를 불러와주고요.\n",
        "\n",
        "from urllib import request\n",
        "!pip install html5lib\n",
        "import html5lib\n",
        "!pip install lxml\n",
        "import pandas as pd\n",
        "import numpy as np"
      ],
      "execution_count": 0,
      "outputs": [
        {
          "output_type": "stream",
          "text": [
            "Requirement already satisfied: html5lib in /usr/local/lib/python3.6/dist-packages (1.0.1)\r\n",
            "Requirement already satisfied: six>=1.9 in /usr/local/lib/python3.6/dist-packages (from html5lib) (1.11.0)\r\n",
            "Requirement already satisfied: webencodings in /usr/local/lib/python3.6/dist-packages (from html5lib) (0.5.1)\n",
            "Requirement already satisfied: lxml in /usr/local/lib/python3.6/dist-packages (4.2.3)\n"
          ],
          "name": "stdout"
        }
      ]
    },
    {
      "metadata": {
        "id": "F8F8JlsAf7Qc",
        "colab_type": "text"
      },
      "cell_type": "markdown",
      "source": [
        "## 크롤링을 해보겠습니다."
      ]
    },
    {
      "metadata": {
        "id": "kmoWdnvFfffg",
        "colab_type": "code",
        "colab": {
          "autoexec": {
            "startup": false,
            "wait_interval": 0
          }
        }
      },
      "cell_type": "code",
      "source": [
        "mayor_PR_12moths = pd.DataFrame()\n",
        "src_url = https://opengov.seoul.go.kr/expense?dept%5B%5D=%EC%84%9C%EC%9A%B8%EC%8B%9C%EB%B3%B8%EC%B2%AD&dept%5B%5D=%EB%8C%80%EB%B3%80%EC%9D%B8&dept%5B%5D=%EC%96%B8%EB%A1%A0%EB%8B%B4%EB%8B%B9%EA%B4%80&year=2017&month=3\n",
        "  \n",
        "for month in range(1,13):  \n",
        "  url_month = url + str(month)\n",
        "  print(url.month)\n",
        "  df = pd.read_html(url_month)[1]"
      ],
      "execution_count": 0,
      "outputs": []
    }
  ]
}